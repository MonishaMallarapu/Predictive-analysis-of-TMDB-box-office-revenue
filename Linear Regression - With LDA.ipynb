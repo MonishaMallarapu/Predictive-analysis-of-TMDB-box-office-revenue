{
 "cells": [
  {
   "cell_type": "code",
   "execution_count": 1,
   "metadata": {},
   "outputs": [],
   "source": [
    "#Load libraries\n",
    "import pandas as pd\n",
    "import numpy as np\n",
    "import seaborn as sns\n",
    "import re\n",
    "import matplotlib.pyplot as plt\n",
    "from sklearn.preprocessing import scale\n",
    "from sklearn.model_selection import train_test_split\n",
    "from sklearn.decomposition import LatentDirichletAllocation\n",
    "from sklearn.feature_extraction.text import CountVectorizer\n",
    "from sklearn.feature_extraction import text\n",
    "from sklearn.preprocessing import MultiLabelBinarizer\n",
    "from sklearn.linear_model import LinearRegression\n",
    "%matplotlib inline"
   ]
  },
  {
   "cell_type": "code",
   "execution_count": 2,
   "metadata": {},
   "outputs": [],
   "source": [
    "#Import datasets for train / test\n",
    "train = pd.read_csv('train.csv')\n",
    "test = pd.read_csv('test.csv')"
   ]
  },
  {
   "cell_type": "code",
   "execution_count": 3,
   "metadata": {},
   "outputs": [],
   "source": [
    "#Create new dummy column to indicate orig dataframe\n",
    "train['Dataset'] = 'Train'\n",
    "test['Dataset'] = 'Test'"
   ]
  },
  {
   "cell_type": "code",
   "execution_count": 4,
   "metadata": {},
   "outputs": [],
   "source": [
    "#Combine into new DataFrame 'Total'\n",
    "total = train.append(test, ignore_index=True, sort=False)"
   ]
  },
  {
   "cell_type": "code",
   "execution_count": 5,
   "metadata": {},
   "outputs": [
    {
     "data": {
      "text/html": [
       "<div>\n",
       "<style scoped>\n",
       "    .dataframe tbody tr th:only-of-type {\n",
       "        vertical-align: middle;\n",
       "    }\n",
       "\n",
       "    .dataframe tbody tr th {\n",
       "        vertical-align: top;\n",
       "    }\n",
       "\n",
       "    .dataframe thead th {\n",
       "        text-align: right;\n",
       "    }\n",
       "</style>\n",
       "<table border=\"1\" class=\"dataframe\">\n",
       "  <thead>\n",
       "    <tr style=\"text-align: right;\">\n",
       "      <th></th>\n",
       "      <th>id</th>\n",
       "      <th>belongs_to_collection</th>\n",
       "      <th>budget</th>\n",
       "      <th>genres</th>\n",
       "      <th>homepage</th>\n",
       "      <th>imdb_id</th>\n",
       "      <th>original_language</th>\n",
       "      <th>original_title</th>\n",
       "      <th>overview</th>\n",
       "      <th>popularity</th>\n",
       "      <th>...</th>\n",
       "      <th>runtime</th>\n",
       "      <th>spoken_languages</th>\n",
       "      <th>status</th>\n",
       "      <th>tagline</th>\n",
       "      <th>title</th>\n",
       "      <th>Keywords</th>\n",
       "      <th>cast</th>\n",
       "      <th>crew</th>\n",
       "      <th>revenue</th>\n",
       "      <th>Dataset</th>\n",
       "    </tr>\n",
       "  </thead>\n",
       "  <tbody>\n",
       "    <tr>\n",
       "      <th>0</th>\n",
       "      <td>1</td>\n",
       "      <td>[{'id': 313576, 'name': 'Hot Tub Time Machine ...</td>\n",
       "      <td>14000000</td>\n",
       "      <td>[{'id': 35, 'name': 'Comedy'}]</td>\n",
       "      <td>NaN</td>\n",
       "      <td>tt2637294</td>\n",
       "      <td>en</td>\n",
       "      <td>Hot Tub Time Machine 2</td>\n",
       "      <td>When Lou, who has become the \"father of the In...</td>\n",
       "      <td>6.575393</td>\n",
       "      <td>...</td>\n",
       "      <td>93.0</td>\n",
       "      <td>[{'iso_639_1': 'en', 'name': 'English'}]</td>\n",
       "      <td>Released</td>\n",
       "      <td>The Laws of Space and Time are About to be Vio...</td>\n",
       "      <td>Hot Tub Time Machine 2</td>\n",
       "      <td>[{'id': 4379, 'name': 'time travel'}, {'id': 9...</td>\n",
       "      <td>[{'cast_id': 4, 'character': 'Lou', 'credit_id...</td>\n",
       "      <td>[{'credit_id': '59ac067c92514107af02c8c8', 'de...</td>\n",
       "      <td>12314651.0</td>\n",
       "      <td>Train</td>\n",
       "    </tr>\n",
       "    <tr>\n",
       "      <th>1</th>\n",
       "      <td>2</td>\n",
       "      <td>[{'id': 107674, 'name': 'The Princess Diaries ...</td>\n",
       "      <td>40000000</td>\n",
       "      <td>[{'id': 35, 'name': 'Comedy'}, {'id': 18, 'nam...</td>\n",
       "      <td>NaN</td>\n",
       "      <td>tt0368933</td>\n",
       "      <td>en</td>\n",
       "      <td>The Princess Diaries 2: Royal Engagement</td>\n",
       "      <td>Mia Thermopolis is now a college graduate and ...</td>\n",
       "      <td>8.248895</td>\n",
       "      <td>...</td>\n",
       "      <td>113.0</td>\n",
       "      <td>[{'iso_639_1': 'en', 'name': 'English'}]</td>\n",
       "      <td>Released</td>\n",
       "      <td>It can take a lifetime to find true love; she'...</td>\n",
       "      <td>The Princess Diaries 2: Royal Engagement</td>\n",
       "      <td>[{'id': 2505, 'name': 'coronation'}, {'id': 42...</td>\n",
       "      <td>[{'cast_id': 1, 'character': 'Mia Thermopolis'...</td>\n",
       "      <td>[{'credit_id': '52fe43fe9251416c7502563d', 'de...</td>\n",
       "      <td>95149435.0</td>\n",
       "      <td>Train</td>\n",
       "    </tr>\n",
       "    <tr>\n",
       "      <th>2</th>\n",
       "      <td>3</td>\n",
       "      <td>NaN</td>\n",
       "      <td>3300000</td>\n",
       "      <td>[{'id': 18, 'name': 'Drama'}]</td>\n",
       "      <td>http://sonyclassics.com/whiplash/</td>\n",
       "      <td>tt2582802</td>\n",
       "      <td>en</td>\n",
       "      <td>Whiplash</td>\n",
       "      <td>Under the direction of a ruthless instructor, ...</td>\n",
       "      <td>64.299990</td>\n",
       "      <td>...</td>\n",
       "      <td>105.0</td>\n",
       "      <td>[{'iso_639_1': 'en', 'name': 'English'}]</td>\n",
       "      <td>Released</td>\n",
       "      <td>The road to greatness can take you to the edge.</td>\n",
       "      <td>Whiplash</td>\n",
       "      <td>[{'id': 1416, 'name': 'jazz'}, {'id': 1523, 'n...</td>\n",
       "      <td>[{'cast_id': 5, 'character': 'Andrew Neimann',...</td>\n",
       "      <td>[{'credit_id': '54d5356ec3a3683ba0000039', 'de...</td>\n",
       "      <td>13092000.0</td>\n",
       "      <td>Train</td>\n",
       "    </tr>\n",
       "    <tr>\n",
       "      <th>3</th>\n",
       "      <td>4</td>\n",
       "      <td>NaN</td>\n",
       "      <td>1200000</td>\n",
       "      <td>[{'id': 53, 'name': 'Thriller'}, {'id': 18, 'n...</td>\n",
       "      <td>http://kahaanithefilm.com/</td>\n",
       "      <td>tt1821480</td>\n",
       "      <td>hi</td>\n",
       "      <td>Kahaani</td>\n",
       "      <td>Vidya Bagchi (Vidya Balan) arrives in Kolkata ...</td>\n",
       "      <td>3.174936</td>\n",
       "      <td>...</td>\n",
       "      <td>122.0</td>\n",
       "      <td>[{'iso_639_1': 'en', 'name': 'English'}, {'iso...</td>\n",
       "      <td>Released</td>\n",
       "      <td>NaN</td>\n",
       "      <td>Kahaani</td>\n",
       "      <td>[{'id': 10092, 'name': 'mystery'}, {'id': 1054...</td>\n",
       "      <td>[{'cast_id': 1, 'character': 'Vidya Bagchi', '...</td>\n",
       "      <td>[{'credit_id': '52fe48779251416c9108d6eb', 'de...</td>\n",
       "      <td>16000000.0</td>\n",
       "      <td>Train</td>\n",
       "    </tr>\n",
       "    <tr>\n",
       "      <th>4</th>\n",
       "      <td>5</td>\n",
       "      <td>NaN</td>\n",
       "      <td>0</td>\n",
       "      <td>[{'id': 28, 'name': 'Action'}, {'id': 53, 'nam...</td>\n",
       "      <td>NaN</td>\n",
       "      <td>tt1380152</td>\n",
       "      <td>ko</td>\n",
       "      <td>마린보이</td>\n",
       "      <td>Marine Boy is the story of a former national s...</td>\n",
       "      <td>1.148070</td>\n",
       "      <td>...</td>\n",
       "      <td>118.0</td>\n",
       "      <td>[{'iso_639_1': 'ko', 'name': '한국어/조선말'}]</td>\n",
       "      <td>Released</td>\n",
       "      <td>NaN</td>\n",
       "      <td>Marine Boy</td>\n",
       "      <td>NaN</td>\n",
       "      <td>[{'cast_id': 3, 'character': 'Chun-soo', 'cred...</td>\n",
       "      <td>[{'credit_id': '52fe464b9251416c75073b43', 'de...</td>\n",
       "      <td>3923970.0</td>\n",
       "      <td>Train</td>\n",
       "    </tr>\n",
       "  </tbody>\n",
       "</table>\n",
       "<p>5 rows × 24 columns</p>\n",
       "</div>"
      ],
      "text/plain": [
       "   id                              belongs_to_collection    budget  \\\n",
       "0   1  [{'id': 313576, 'name': 'Hot Tub Time Machine ...  14000000   \n",
       "1   2  [{'id': 107674, 'name': 'The Princess Diaries ...  40000000   \n",
       "2   3                                                NaN   3300000   \n",
       "3   4                                                NaN   1200000   \n",
       "4   5                                                NaN         0   \n",
       "\n",
       "                                              genres  \\\n",
       "0                     [{'id': 35, 'name': 'Comedy'}]   \n",
       "1  [{'id': 35, 'name': 'Comedy'}, {'id': 18, 'nam...   \n",
       "2                      [{'id': 18, 'name': 'Drama'}]   \n",
       "3  [{'id': 53, 'name': 'Thriller'}, {'id': 18, 'n...   \n",
       "4  [{'id': 28, 'name': 'Action'}, {'id': 53, 'nam...   \n",
       "\n",
       "                            homepage    imdb_id original_language  \\\n",
       "0                                NaN  tt2637294                en   \n",
       "1                                NaN  tt0368933                en   \n",
       "2  http://sonyclassics.com/whiplash/  tt2582802                en   \n",
       "3         http://kahaanithefilm.com/  tt1821480                hi   \n",
       "4                                NaN  tt1380152                ko   \n",
       "\n",
       "                             original_title  \\\n",
       "0                    Hot Tub Time Machine 2   \n",
       "1  The Princess Diaries 2: Royal Engagement   \n",
       "2                                  Whiplash   \n",
       "3                                   Kahaani   \n",
       "4                                      마린보이   \n",
       "\n",
       "                                            overview  popularity  ... runtime  \\\n",
       "0  When Lou, who has become the \"father of the In...    6.575393  ...    93.0   \n",
       "1  Mia Thermopolis is now a college graduate and ...    8.248895  ...   113.0   \n",
       "2  Under the direction of a ruthless instructor, ...   64.299990  ...   105.0   \n",
       "3  Vidya Bagchi (Vidya Balan) arrives in Kolkata ...    3.174936  ...   122.0   \n",
       "4  Marine Boy is the story of a former national s...    1.148070  ...   118.0   \n",
       "\n",
       "                                    spoken_languages    status  \\\n",
       "0           [{'iso_639_1': 'en', 'name': 'English'}]  Released   \n",
       "1           [{'iso_639_1': 'en', 'name': 'English'}]  Released   \n",
       "2           [{'iso_639_1': 'en', 'name': 'English'}]  Released   \n",
       "3  [{'iso_639_1': 'en', 'name': 'English'}, {'iso...  Released   \n",
       "4           [{'iso_639_1': 'ko', 'name': '한국어/조선말'}]  Released   \n",
       "\n",
       "                                             tagline  \\\n",
       "0  The Laws of Space and Time are About to be Vio...   \n",
       "1  It can take a lifetime to find true love; she'...   \n",
       "2    The road to greatness can take you to the edge.   \n",
       "3                                                NaN   \n",
       "4                                                NaN   \n",
       "\n",
       "                                      title  \\\n",
       "0                    Hot Tub Time Machine 2   \n",
       "1  The Princess Diaries 2: Royal Engagement   \n",
       "2                                  Whiplash   \n",
       "3                                   Kahaani   \n",
       "4                                Marine Boy   \n",
       "\n",
       "                                            Keywords  \\\n",
       "0  [{'id': 4379, 'name': 'time travel'}, {'id': 9...   \n",
       "1  [{'id': 2505, 'name': 'coronation'}, {'id': 42...   \n",
       "2  [{'id': 1416, 'name': 'jazz'}, {'id': 1523, 'n...   \n",
       "3  [{'id': 10092, 'name': 'mystery'}, {'id': 1054...   \n",
       "4                                                NaN   \n",
       "\n",
       "                                                cast  \\\n",
       "0  [{'cast_id': 4, 'character': 'Lou', 'credit_id...   \n",
       "1  [{'cast_id': 1, 'character': 'Mia Thermopolis'...   \n",
       "2  [{'cast_id': 5, 'character': 'Andrew Neimann',...   \n",
       "3  [{'cast_id': 1, 'character': 'Vidya Bagchi', '...   \n",
       "4  [{'cast_id': 3, 'character': 'Chun-soo', 'cred...   \n",
       "\n",
       "                                                crew     revenue Dataset  \n",
       "0  [{'credit_id': '59ac067c92514107af02c8c8', 'de...  12314651.0   Train  \n",
       "1  [{'credit_id': '52fe43fe9251416c7502563d', 'de...  95149435.0   Train  \n",
       "2  [{'credit_id': '54d5356ec3a3683ba0000039', 'de...  13092000.0   Train  \n",
       "3  [{'credit_id': '52fe48779251416c9108d6eb', 'de...  16000000.0   Train  \n",
       "4  [{'credit_id': '52fe464b9251416c75073b43', 'de...   3923970.0   Train  \n",
       "\n",
       "[5 rows x 24 columns]"
      ]
     },
     "execution_count": 5,
     "metadata": {},
     "output_type": "execute_result"
    }
   ],
   "source": [
    "#Check the head of new dataframe\n",
    "total.head()"
   ]
  },
  {
   "cell_type": "code",
   "execution_count": 6,
   "metadata": {},
   "outputs": [
    {
     "name": "stdout",
     "output_type": "stream",
     "text": [
      "<class 'pandas.core.frame.DataFrame'>\n",
      "RangeIndex: 7398 entries, 0 to 7397\n",
      "Data columns (total 24 columns):\n",
      "id                       7398 non-null int64\n",
      "belongs_to_collection    1481 non-null object\n",
      "budget                   7398 non-null int64\n",
      "genres                   7375 non-null object\n",
      "homepage                 2366 non-null object\n",
      "imdb_id                  7398 non-null object\n",
      "original_language        7398 non-null object\n",
      "original_title           7398 non-null object\n",
      "overview                 7376 non-null object\n",
      "popularity               7398 non-null float64\n",
      "poster_path              7396 non-null object\n",
      "production_companies     6984 non-null object\n",
      "production_countries     7241 non-null object\n",
      "release_date             7397 non-null object\n",
      "runtime                  7392 non-null float64\n",
      "spoken_languages         7336 non-null object\n",
      "status                   7396 non-null object\n",
      "tagline                  5938 non-null object\n",
      "title                    7395 non-null object\n",
      "Keywords                 6729 non-null object\n",
      "cast                     7372 non-null object\n",
      "crew                     7360 non-null object\n",
      "revenue                  3000 non-null float64\n",
      "Dataset                  7398 non-null object\n",
      "dtypes: float64(3), int64(2), object(19)\n",
      "memory usage: 1.4+ MB\n"
     ]
    }
   ],
   "source": [
    "#Get info on new frame total\n",
    "total.info()"
   ]
  },
  {
   "cell_type": "code",
   "execution_count": 7,
   "metadata": {},
   "outputs": [],
   "source": [
    "#Fill in null values in crew with 'Missing Crew'\n",
    "total['crew'] = total['crew'].fillna('Missing Crew')"
   ]
  },
  {
   "cell_type": "code",
   "execution_count": 8,
   "metadata": {},
   "outputs": [],
   "source": [
    "#Fill the null values for tagline with empty space\n",
    "total['tagline'] = total['tagline'].fillna(' ')"
   ]
  },
  {
   "cell_type": "code",
   "execution_count": 9,
   "metadata": {},
   "outputs": [],
   "source": [
    "#Fill the null values for overview with empty space\n",
    "total['overview'] = total['overview'].fillna(' ')"
   ]
  },
  {
   "cell_type": "code",
   "execution_count": 10,
   "metadata": {},
   "outputs": [],
   "source": [
    "#Fill the NA values for runtime\n",
    "total['runtime']= total['runtime'].fillna(total['runtime'].mean())"
   ]
  },
  {
   "cell_type": "code",
   "execution_count": 11,
   "metadata": {},
   "outputs": [],
   "source": [
    "#Create a function to parse columns\n",
    "def parse_column(col):\n",
    "    col = str(col)\n",
    "    col = col.replace('[','')\n",
    "    col = col.replace(']','')\n",
    "    col = col.replace(\"'\",'')\n",
    "    col = col.replace('{','')\n",
    "    col = col.replace('}','')\n",
    "    lst = col.split(',')\n",
    "    output = []\n",
    "    for i in lst:\n",
    "        word = i\n",
    "        if word[:5] == ' name':\n",
    "            string = word.split(':')\n",
    "            string = string[1]\n",
    "            string = string.lstrip()\n",
    "            string = string.lower()\n",
    "            output.append(string)\n",
    "    return output"
   ]
  },
  {
   "cell_type": "code",
   "execution_count": 12,
   "metadata": {},
   "outputs": [],
   "source": [
    "#Create function to convert column to list\n",
    "def list_to_string(col):\n",
    "    output = \"\"\n",
    "    for i in col:\n",
    "        output = output + i\n",
    "        output = output + ' '\n",
    "    return output"
   ]
  },
  {
   "cell_type": "code",
   "execution_count": 13,
   "metadata": {},
   "outputs": [],
   "source": [
    "#Create function to find the director\n",
    "def find_director(crew_string):\n",
    "    if \" 'job': 'Director'\" in crew_string:\n",
    "        crew = crew_string\n",
    "        crew = crew.replace('[', '')\n",
    "        crew = crew.replace(']', '')\n",
    "        crew = crew.replace('{', '')\n",
    "        crew = crew.replace('}', '')\n",
    "        crew_list = crew.split(',')\n",
    "        director_index = crew_list.index(\" 'job': 'Director'\")\n",
    "        name_index = director_index + 1\n",
    "        output = crew_list[name_index][10:-1]\n",
    "    else:\n",
    "        output = 'Missing Director'\n",
    "    return output"
   ]
  },
  {
   "cell_type": "code",
   "execution_count": 14,
   "metadata": {},
   "outputs": [],
   "source": [
    "#Apply custom function to crew new column 'Director'\n",
    "total['director'] = total['crew'].apply(find_director)"
   ]
  },
  {
   "cell_type": "code",
   "execution_count": 15,
   "metadata": {},
   "outputs": [],
   "source": [
    "#Create a new column that gives a ratio of movie performance (if revenue and budget not NULL or 0)\n",
    "train_index = total[total['Dataset'] == 'Train'].index\n",
    "total['Performance Ratio'] = total['revenue'].loc[train_index] / total['budget'].loc[train_index]"
   ]
  },
  {
   "cell_type": "code",
   "execution_count": 16,
   "metadata": {},
   "outputs": [],
   "source": [
    "#Create function to replace infinity in Performance Ratio column\n",
    "import math\n",
    "def replace_inf(col):\n",
    "    if col in np.array([math.inf], dtype='float64'):\n",
    "        col = 0\n",
    "    else:\n",
    "        col = col\n",
    "    return col"
   ]
  },
  {
   "cell_type": "code",
   "execution_count": 17,
   "metadata": {},
   "outputs": [],
   "source": [
    "#Replace inf in Performance Ratio column\n",
    "total['Performance Ratio'] = total['Performance Ratio'].apply(replace_inf)"
   ]
  },
  {
   "cell_type": "code",
   "execution_count": 18,
   "metadata": {},
   "outputs": [
    {
     "data": {
      "text/plain": [
       "0.000000      812\n",
       "1.000000        8\n",
       "2.000000        6\n",
       "1.333333        5\n",
       "1.500000        3\n",
       "3.000000        3\n",
       "4.000000        3\n",
       "5.000000        3\n",
       "4.666667        2\n",
       "5.500000        2\n",
       "0.150000        2\n",
       "10.000000       2\n",
       "100.000000      2\n",
       "3.400000        2\n",
       "3.500000        2\n",
       "2.050000        2\n",
       "2.500000        2\n",
       "0.250000        2\n",
       "0.083333        2\n",
       "0.200000        2\n",
       "10.454234       1\n",
       "5.123191        1\n",
       "0.163184        1\n",
       "2.930454        1\n",
       "1.666756        1\n",
       "1.344787        1\n",
       "5.180542        1\n",
       "1.092134        1\n",
       "0.019936        1\n",
       "3.982651        1\n",
       "             ... \n",
       "0.770047        1\n",
       "3.101309        1\n",
       "3.035860        1\n",
       "7.170440        1\n",
       "8.374117        1\n",
       "2.384183        1\n",
       "3.040442        1\n",
       "2.096971        1\n",
       "2.378839        1\n",
       "2.837813        1\n",
       "0.711111        1\n",
       "2.278981        1\n",
       "4.910743        1\n",
       "0.122080        1\n",
       "0.085722        1\n",
       "0.296667        1\n",
       "5.121016        1\n",
       "1.429945        1\n",
       "1.247165        1\n",
       "36.764313       1\n",
       "0.285811        1\n",
       "2.933333        1\n",
       "3.004000        1\n",
       "3.689379        1\n",
       "0.719771        1\n",
       "0.361352        1\n",
       "1.524146        1\n",
       "1.509424        1\n",
       "1.463070        1\n",
       "5.562925        1\n",
       "Name: Performance Ratio, Length: 2153, dtype: int64"
      ]
     },
     "execution_count": 18,
     "metadata": {},
     "output_type": "execute_result"
    }
   ],
   "source": [
    "#Check that inf has been replaced as zero\n",
    "total['Performance Ratio'].value_counts()"
   ]
  },
  {
   "cell_type": "code",
   "execution_count": 19,
   "metadata": {},
   "outputs": [
    {
     "name": "stdout",
     "output_type": "stream",
     "text": [
      "{'A.J. Edwards': 0.0, 'A.R. Murugadoss': 8.351648351648352, 'Aaron Katz': 6.17, 'Aaron Norris': 0.0, 'Abbas Kiarostami': 0.0, 'Abbas Tyrewala': 4.826086956521739, 'Abderrahmane Sissako': 0.0, 'Abrid Shine': 8.333333333333334, 'Adam Brooks': 0.0, 'Adam Elliot': 2.9232102467661187, 'Adam Green': 0.0105208, 'Adam McKay': 3.5050922761083743, 'Adam Rapp': 0.03250942857142857, 'Adam Resnick': 0.0, 'Adam Rifkin': 0.1540255576923077, 'Adam Shankman': 4.32587505, 'Adam Wingard': 0.0, 'Adolfo Mart√≠nez P√©rez': 0.0, 'Adrian Lyne': 11.442323588709677, 'Adrienne Shelly': 11.089715, 'Agathiyan': 1.0, 'Akira Kurosawa': 0.0, 'Aksinya Gog': 0.0, 'Alain Chabat': 0.7886846801346802, 'Alan Gibson': 0.0, 'Alan J. Pakula': 8.305882352941177, 'Alan Myerson': 4.692678571428571, 'Alan Parker': 0.894238463942959, 'Alan Poul': 2.2136288, 'Alan Shapiro': 0.7865264394829612, 'Alastair Fothergill': 0.0, 'Albert Hughes': 2.047039397321429, 'Albert Pyun': 0.0, 'Alberto Rodr√≠guez': 0.4774254, 'Alejandro Agresti': 2.870752775, 'Alejandro Amen√°bar': 0.0, 'Alejandro Gonz√°lez I√±√°rritu': 4.355851738425926, 'Aleksandr Barshak': 0.0, 'Aleksandr Proshkin': 0.0, 'Aleksei Sidorov': 2.3608094285714287, 'Aleksey Andrianov': 0.764696, 'Aleksey Balabanov': 0.0, 'Aleksey German Jr': 0.0, 'Aleksey Mizgiryov': 0.4758373820827641, 'Aleksey Uchitel': 0.3483405, 'Aleksi M√§kel√§': 0.295705, 'Alessandro Genovesi': 1.3699909090909093, 'Alex Cox': 0.70663075, 'Alex Garland': 2.457960933333333, 'Alex Gibney': 0.0, 'Alex Kendrick': 50.7174275, 'Alex Kurtzman': 2.0196988645, 'Alex Proyas': 1.007419111111111, 'Alex Rivera': 0.0430236, 'Alexander Payne': 3.9476517124999995, 'Alfonso Ar√°u': 10.832734, 'Alfonso Cuar√≥n': 6.822787666666667, 'Alfred Hitchcock': 7.700357461645964, 'Alicia Scherson': 0.0, 'Alison Klayman': 0.0, 'Alki David': 0.0006582857142857143, 'Allan A. Goldstein': 0.3404788, 'Allan Moyle': 0.28630084615384616, 'Allen Coulter': 0.0, 'Allen Hughes': 0.3518065, 'Ami Canaan Mann': 0.0, 'Amma Asante': 1.514262385321101, 'Amy Heckerling': 15.162435555555556, 'Ana Kokkinos': 0.0, 'Anand L Rai': 2.8125, 'Anand Tucker': 1.1267615425625477, 'Anders Anderson': 0.003653, 'Andrea Arnold': 0.39297533333333334, 'Andrei Konchalovsky': 1.2992493703703705, 'Andrei Tarkovsky': 0.0, 'Andrew Adamson': 2.008385347037037, 'Andrew Bujalski': 0.0, 'Andrew Currie': 0.053278, 'Andrew Davis': 1.0631664752941177, 'Andrew Dominik': 2.5286976666666665, 'Andrew Douglas': 5.686691105263158, 'Andrew Fleming': 2.0719856162393167, 'Andrew Jarecki': 0.0, 'Andrew Lau': 4.581020012911556, 'Andrew Morahan': 1.4153846153846155, 'Andrew Neel': 0.0, 'Andrew Niccol': 0.719627284090909, 'Andrew Rossi': 0.0, 'Andrew Solt': 0.4182074, 'Andrew Stanton': 3.0439580457692306, 'Andrey Kravchuk': 19.067939, 'Andrucha Waddington': 1.089897894736842, 'Andrzej Bartkowiak': 2.108336679166667, 'Andrzej Wajda': 2.8314063461538463, 'Andr√© De Toth': 36.170212765957444, 'Andr√© √òvredal': 1.1884794285714286, 'Andy Cadiff': 5.217391304347826e-07, 'Andy Fickman': 3.632955244411483, 'Andy Hamilton': 0.0, 'Andy Muschietti': 9.766518066666666, 'Andy Tennant': 4.710373733333333, 'Andy Wolk': 0.0, 'Andy de Emmony': 1.0076544737956419, 'Anees Bazmee': 0.31297709923664124, 'Ang Lee': 7.557638590909091, 'Angel Gracia': 26881.720430107525, 'Angela Robinson': 1.32004008, 'Angelina Jolie': 2.514506723076923, 'Ann Hui': 0.0, 'Annabel Jankel': 0.21786942708333334, 'Anne Fletcher': 5.496407210714286, 'Anne Fontaine': 0.019936375, 'Anthony Byrne': 0.07844444444444444, 'Anthony Hickox': 2.5069922, 'Anthony Mann': 0.25, 'Anthony Minghella': 2.190044417721519, 'Anthony Perkins': 0.0, 'Anthony Russo': 4.204509247058824, 'Anthony Silverston': 1.35936875, 'Anthony Waller': 0.8538741590909091, 'Antoine Fuqua': 2.3346813036032597, 'Antonia Bird': 0.0, 'Antony Hoffman': 0.4182996125, 'Anubhav Sinha': 0.0, 'Anurag Basu': 0.6320831421599691, 'Anurag Kashyap': 1.0130964972959577, 'Ari Folman': 2.78146225, 'Ari Sandel': 5.1210157647058825, 'Arie Posin': 0.0875015, 'Ariel Vromen': 0.09845965, 'Aristomenis Tsirbas': 1.5252615, 'Armand Mastroianni': 0.019457571428571428, 'Armando Iannucci': 0.0, 'Aron Schock': 0.0, 'Art Linson': 0.0, 'Arthur Hiller': 23.286105846153845, 'Asger Leth': 1.1005045, 'Asghar Farhadi': 0.0, 'Ash Brannon': 1.7534648588235293, 'Ashish R. Mohan': 0.0, 'Ashutosh Gowariker': 1.551905262152612, 'Ashwani Dhir': 1.3333333333333333, 'Asia Argento': 2.3788386225523297, 'Asif Kapadia': 0.0, 'Ate de Jong': 1.0237172407189157, 'Atom Egoyan': 0.2819819333333333, 'Azazel Jacobs': 0.0, 'B Unnikrishnan': 1.0833333333333333, 'Babak Najafi': 3.4292407833333334, 'Bae Hyeong-jun': 0.0, 'Baik': 0.0, 'Baillie Walsh': 0.0, 'Baltasar Korm√°kur': 3.6986833454545454, 'Barbara Kopple': 0.0, 'Barbet Schroeder': 1.10406947, 'Barry Jenkins': 16.26167175, 'Barry Levinson': 1.843289374, 'Barry Sonnenfeld': 1.75056346, 'Barry W. Blaustein': 0.24346918264473755, 'Baz Luhrmann': 0.38118463076923076, 'Ben Affleck': 3.1978740274197417, 'Ben Bolt': 0.0, 'Ben Falcone': 5.0262716, 'Ben Garant': 1.01710805, 'Ben Gluck': 1.965, 'Ben Lewin': 9.138338, 'Ben Stassen': 0.24760718518518518, 'Ben Stiller': 2.008075683701648, 'Ben Wheatley': 0.17176, 'Ben Younger': 1.0290818333333334, 'Benh Zeitlin': 11.726525555555556, 'Bennett Miller': 7.012118571428571, 'Bernard Rose': 0.007541238095238095, 'Bernardo Bertolucci': 15.413778913043478, 'Bernhard Wicki': 5.01, 'Bernie Goldmann': 0.0693184, 'Bertrand Tavernier': 0.4598290348852993, 'Betty Thomas': 4.147276126760564, 'Bharat Nalluri': 0.0, 'Bharathan': 0.0, 'Bill Condon': 2.602992758705357, 'Bill Duke': 1.3, 'Bill Fishman': 0.05785420560747664, 'Bill Forsyth': 0.0, 'Bill Kroyer': 0.0, 'Bill L. Norton': 6.0058696, 'Bill Pohlad': 0.0, 'Billy Bob Thornton': 0.0, 'Billy Corben': 0.0, 'Billy Wilder': 3.417652758339128, 'Blake Edwards': 1.220407120774411, 'Boaz Davidson': 0.0, 'Boaz Yakin': 0.6724364333333334, 'Bob Balaban': 0.0, 'Bob Clark': 7.031100100000001, 'Bob Dolman': 0.0, 'Bob Fosse': 1.25, 'Bob Logan': 0.0, 'Bob Odenkirk': 1.15751125, 'Bob Spiers': 4.0, 'Bobby Farrelly': 2.345255588888889, 'Bong Joon-ho': 2.2132375510204083, 'Bora Daƒütekin': 0.0, 'Borja Cobeaga': 0.0, 'Brad Anderson': 2.305148435897436, 'Brad Bird': 4.251813326557774, 'Brad Peyton': 2.772780190909091, 'Brad Silberling': 0.23835833333333334, 'Bradley Parker': 0.0, 'Breck Eisner': 1.2750449589743589, 'Brenda Chapman': 3.1230455428571426, 'Brendan Malloy': 0.6159448333333334, 'Brett Haley': 0.0, 'Brett Leonard': 0.4103333333333333, 'Brett Ratner': 3.4668710997893215, 'Brian De Palma': 1.8372882620649489, 'Brian Fee': 2.000971754285714, 'Brian G. Hutton': 0.0, 'Brian Gibson': 2.1577192105263157, 'Brian Helgeland': 1.3112180387871388, 'Brian Henson': 0.0, 'Brian Knappenberger': 0.0, 'Brian Koppelman': 0.8, 'Brian Levant': 0.9601194636546185, 'Brian Percival': 0.0, 'Brian Robbins': 0.887061375, 'Brian Taylor': 2.1729385916666666, 'Brillante Mendoza': 0.0, 'Bruce A. Evans': 2.08186315, 'Bruce Beresford': 1.1231239085714286, 'Bruce Campbell': 0.11537733333333333, 'Bruce LaBruce': 0.0, 'Bruce Malmuth': 4.3610359, 'Bruce McDonald': 0.03322095238095238, 'Bruce Pittman': 0.0, 'Bruno Barreto': 0.0, 'Bruno Dumont': 0.03298548536151648, 'Bryan Buckley': 0.17594742857142856, 'Bryan Johnson': 0.1242, 'Bryan Singer': 2.056233355339722, 'Bryan Spicer': 4.4, 'Bud Yorkin': 0.0, 'Burr Steers': 0.8400203506493507, 'Burt Reynolds': 0.0, 'Busby Berkeley': 5.450124688279302, 'Byron Howard': 6.825227966666667, 'B√©la Tarr': 0.0, 'C. Jay Cox': 0.9646341176470589, 'Cameron Crowe': 1.3413298698245615, 'Carl Franklin': 0.6571314459523809, 'Carl Reiner': 0.0, 'Carl Schenkel': 0.0, 'Carlos Reygadas': 0.15827710464280006, 'Carlos Saldanha': 7.656677964167566, 'Carol Reed': 1.8, 'Caroline Bottaro': 0.0, 'Carroll Ballard': 13.999867777777778, 'Cary Fukunaga': 0.5043166666666666, 'Catherine Hardwicke': 2.2117150595238098, 'Cecil B. DeMille': 9.438461538461539, 'Celine Danhier': 0.0, 'Charles B. Pierce': 220.0, 'Charles Binam√©': 0.252376125, 'Charles Herman-Wurmfeld': 6.394654688888889, 'Charles Jarrott': 0.3446049, 'Charles Martin Smith': 2.578497216216216, 'Charles S. Dutton': 0.1695969230769231, 'Charles Shyer': 0.111632825, 'Charles Stone III': 1.202033661111111, 'Charlie Chaplin': 2833338.5, 'Cheung Yam-Yim': 0.0, 'Chris Blum': 0.0, 'Chris Columbus': 2.9422869548373205, 'Chris Fisher': 0.5125, 'Chris Gorak': 0.0, 'Chris Kelly': 0.0, 'Chris Kentis': 6.550836, 'Chris Koch': 0.87160815, 'Chris Morris': 4.412588380941751, 'Chris Nahon': 2.57751388, 'Chris Noonan': 4.820219183333334, 'Chris Rock': 0.0, 'Chris Wedge': 4.21870330700565, 'Chris Weitz': 8.525153900525254, 'Christian Alvart': 1.0740740740740742, 'Christian Charles': 0.0, 'Christian Ditter': 2.956408236842105, 'Christian Duguay': 0.51448225, 'Christian Petzold': 0.0, 'Christian Robinson': 1.05852815, 'Christian Volckman': 0.10174155555555556, 'Christine Jeffs': 1.4285714285714286, 'Christophe Gans': 1.4878787878787878, 'Christophe Van Rompaey': 2.6785714285714284, 'Christopher B. Landon': 17.2724744, 'Christopher Coppola': 1.8e-06, 'Christopher Crowe': 0.6035029166666667, 'Christopher Erskin': 2.598293, 'Christopher Guest': 3.125041, 'Christopher McQuarrie': 2.9445285465686277, 'Christopher Nolan': 4.686769476227477, 'Christopher Reeve': 0.0, 'Christopher Scott Cherot': 0.0, 'Chu Yen-ping': 2.2896728, 'Chuck Russell': 5.224711492528604, 'Chung Yoon-chul': 0.0, 'Ciaran Foy': 5.2882018, 'Cindy Meehl': 0.0, 'Clare Kilner': 3.1450025333333333, 'Clare Lewins': 0.0, 'Clarence Brown': 1.804289544235925, 'Clark Johnson': 1.3783571291666665, 'Claude Barras': 0.036534875, 'Claude Chabrol': 0.0, 'Claude Zidi': 0.0, 'Claudia Llosa': 0.00663575, 'Clayton Jacobson': 0.0, 'Clint Eastwood': 2.433344889104683, 'Clive Donner': 0.0, 'Clyde Geronimi': 21.85116275, 'Cl√©ment Michel': 0.0, 'Colin Strause': 6.6821036, 'Constance Marks': 0.0, 'Corey Yuen Kwai': 0.0, 'Corneliu Porumboiu': 0.044336123962693694, 'Costa-Gavras': 0.10541523, 'Craig Brewer': 0.7269230666666666, 'Craig Clyde': 5.333333333333333, 'Craig Gillespie': 1.147674057377451, 'Craig Johnson': 0.0, 'Craig McCracken': 1.1411644, 'Craig R. Baxley': 2.1061697142857145, 'Craig Zobel': 0.0, 'Cristian Mungiu': 1.3909314846746665, 'Crystal Moselle': 0.0, 'Curtis Hanson': 0.17802014285714285, 'C√©dric Klapisch': 1.266694819265144, 'D.J. Caruso': 5.8880067, 'D.W. Griffith': 110.0, 'DJ Pooh': 1.4806664999999999, 'Daisy von Scherler Mayer': 0.6174593076923077, 'Dale Launer': 0.0, 'Damien Chazelle': 3.9672727272727273, 'Dan Bradley': 0.6893351230769231, 'Dan Cutforth': 2.7272463333333334, 'Dan St. Pierre': 0.26660038571428574, 'Dan Trachtenberg': 7.219094733333334, 'Daniel Alfredson': 0.0, 'Daniel Barnz': 0.0, 'Daniel Benmayor': 0.05397118181818182, 'Daniel Calparsoro': 1.8087553731343284, 'Daniel Espinosa': 1.2572209764705884, 'Daniel Monz√≥n': 3.386049649122807, 'Daniel Myrick': 4133.333333333333, 'Daniel Petrie': 0.0, 'Daniel Sackheim': 0.7873203, 'Daniel Schechter': 0.022121, 'Danny Boyle': 10.3333735, 'Danny Cannon': 0.9322727396011397, 'Danny DeVito': 4.136855142857143, 'Danny Huston': 0.0, 'Danny Leiner': 5.629286384615384, 'Danny Steinmann': 9.968371818181819, 'Dany Boon': 4.835626, 'Dario Argento': 0.5688623076923077, 'Darrell James Roodt': 0.0, 'Darren Aronofsky': 18.179110024321368, 'Darren Lynn Bousman': 0.0, 'Dave Green': 1.8194359111111111, 'David Anspaugh': 2.5372386805555553, 'David Ayer': 3.452986695238095, 'David Bowers': 2.9257297171717167, 'David Boyd': 2.3841833333333335, 'David Bruckner': 4.9981, 'David Carson': 3.1578947368421053, 'David Cronenberg': 0.9575847218000414, 'David Dobkin': 2.8082899293269232, 'David Drury': 0.0, 'David E. Talbert': 2.6419422352941178, 'David F. Sandberg': 30.381394897959183, 'David Fincher': 3.0388297284748496, 'David Frankel': 2.4282228055555555, 'David Gelb': 19.427493333333334, 'David Gleeson': 0.01685, 'David Gordon Green': 0.0, 'David Greene': 0.0, 'David Grovic': 0.0, 'David Hogan': 0.47352872, 'David Koepp': 1.7610905833333332, 'David Lean': 6.232561645833333, 'David Leland': 0.14238813157894736, 'David Lickley': 0.0, 'David Lowery': 0.0, 'David Lynch': 3.2716643666666663, 'David M. Rosenthal': 5.022764416666667, 'David Mackenzie': 0.007580125, 'David Mamet': 0.461171, 'David Mich√¥d': 0.19369073469387754, 'David Mirkin': 0.0, 'David O. Russell': 3.2873857962499997, 'David R. Ellis': 1.5951920635657675, 'David Raynr': 0.3300705, 'David S. Goyer': 3.3826438009615383, 'David S. Ward': 2.2635067272727274, 'David Salle': 0.09737575, 'David Schwimmer': 1.6563157894736842, 'David Seltzer': 0.7010755666666667, 'David Silverman': 7.02758468, 'David Slade': 8.831865260448916, 'David Twohy': 0.28096744, 'David Wnendt': 7.981475439221603, 'David Yates': 3.735836788, 'Davis Guggenheim': 0.0, 'Dean DeBlois': 4.200848606896551, 'Dean Israelite': 2.0553629083333336, 'Dean Parisot': 2.02026112, 'Deborah Scranton': 0.0, 'Declan Lowney': 2.45, 'Del Shores': 0.0, 'Denis Villeneuve': 2.800860533333333, 'Denise Di Novi': 1.4806676666666667, 'Dennis Dugan': 1.716879125, 'Dennis Gansel': 0.8364931111111111, 'Dennis Hopper': 3.88467225, 'Dennis Iliadis': 2.1814423333333335, 'Denys Arcand': 0.0, 'Denzel Washington': 1.9422415733333334, 'Derek Cianfrance': 2.3657072, 'Derek Jarman': 0.0, 'Destin Cretton': 0.0, 'Dexter Fletcher': 2.0066265652173914, 'Diane English': 3.125471625, 'Dick Maas': 0.010877933333333333, \"Dinesh D'Souza\": 2.6, 'Dirk Shafer': 0.0, 'Dito Montiel': 0.16542477272727274, 'Dmitri Voronkov': 0.0, 'Dmitriy Kiselev': 1.394895970876764, 'Dmitriy Suvorov': 0.0, 'Dominic Sena': 1.4419648333333333, 'Dominik Moll': 0.07341227272727273, 'Dominique Deruddere': 0.0, 'Dominique Othenin-Girard': 2.3284508, 'Don Coscarelli': 1.2138085, 'Don Roos': 2.2254185142857144, 'Don Siegel': 1.1897232142857144, 'Donald Petrie': 2.425738796840959, 'Donna Deitch': 6.857142857142857, 'Doug Atchison': 2.368553125, 'Doug Lefler': 0.37765728358208955, 'Doug Liman': 2.0227884027766354, 'Doug Sweetland': 2.605418257142857, 'Douglas Aarniokoski': 1000000.0, 'Douglas Day Stewart': 1.151656, 'Douglas McGrath': 0.6807714022435898, 'Drake Doremus': 0.0, 'Drew Barrymore': 1.108869, 'Drew Goddard': 2.2162026666666668, 'Duke Johnson': 0.70741075, 'Duncan Jones': 3.2780837906249998, 'Dwight H. Little': 3.695392366666667, 'Ed Gass-Donnelly': 3.0358604, 'Ed Harris': 1.1719515166666667, 'Edgar Wright': 4.453869219117648, 'Edmund Goulding': 3.7057142857142855, 'Eduardo S√°nchez': 0.0, 'Edward Burns': 1.2012295, 'Edward Dmytryk': 6.337843642611684, 'Edward Zwick': 2.729592560253969, 'Eleanor Coppola': 1.34, 'Eli Roth': 11.452801466666667, 'Elia Kazan': 6.483150183150183, 'Elizabeth Chai Vasarhelyi': 0.0, 'Eloy de la Iglesia': 0.0, 'Emile Ardolino': 17.885312149122807, 'Emmanuelle Bercot': 0.0052288, 'Enrique Gato': 2.1904761904761907, 'Enzo G. Castellari': 0.0, 'Eran Creevy': 0.2237918604651163, 'Eric Blakeney': 0.1631839, 'Eric Bress': 7.38929676923077, 'Eric Darnell': 2.829940106060606, 'Eric Nicholas': 0.010018, 'Eric Red': 0.0, 'Eric Toledano': 32.80622084615385, 'Erich von Stroheim': 0.0016891891891891893, 'Ericson Core': 1.2735115333333333, 'Erik Gandini': 1.6852514285714286, 'Erik Van Looy': 0.7197707142857143, 'Ernest Thompson': 0.0, 'Ernst Lubitsch': 1.6695970695970697, 'Errol Morris': 0.0, 'Ethan Spaulding': 0.0, 'Eugene Abizov': 2.2584766694275347, 'Eug√®ne Louri√©': 23.80952380952381, 'Evan Glodell': 5.955058823529412, 'F. Gary Gray': 3.506220760905211, 'F. Javier Guti√©rrez': 3.3232356, 'F.W. Murnau': 0.0, 'Farren Blackburn': 0.0, 'Fatih Akin': 4.685411842105263, 'Fede Alvarez': 10.803296464052288, 'Federico Fellini': 0.0, 'Felix Van Groeningen': 0.0, 'Feng Xiaogang': 1.0870925, 'Fenton Bailey': 0.1485796, 'Fernando Meirelles': 3.2986668, 'Ferzan Ozpetek': 0.3914388095238095, 'Filip Remunda': 0.0, 'Filipp Yankovsky': 0.7839462, 'Florian Henckel von Donnersmarck': 18.893656845, 'Floyd Mutrux': 0.011762761904761904, 'Fons Rademakers': 0.0, 'Forest Whitaker': 5.09075975, 'Franc. Reyes': 2.323909, 'Francine McDougall': 1.2069957272727272, 'Francis Ford Coppola': 6.704458175665937, 'Francis Lawrence': 3.431700214861111, 'Francis Veber': 1.353, 'Franco Amurri': 0.0, 'Franco Zeffirelli': 0.0, 'Frank Borzage': 6.25, 'Frank Coraci': 2.1869204881628788, 'Frank Darabont': 2.152834657777778, 'Frank Marshall': 2.589411591075269, 'Frank Oz': 0.9321048993464053, 'Frank Pierson': 26.833333333333332, 'Frank Tashlin': 2.3666666666666667, 'Frank Whaley': 0.0, 'Franklin J. Schaffner': 4.438916666666667, 'Frant Gwo': 0.0, 'Fran√ßois Dupeyron': 0.0, 'Fran√ßois Ozon': 0.0, 'Fran√ßois Truffaut': 0.019886657742079428, 'Fred Dekker': 0.3141658333333333, 'Fred Savage': 3.0328996666666668, 'Fred Schepisi': 0.0, 'Fred Wolf': 0.0, 'Fred Zinnemann': 7.269230769230769, 'Frederik Du Chau': 0.9543125, 'Fredrik Bond': 0.0, 'Fritz Kiersch': 8.75, 'Fritz Lang': 2.4528858816961963, 'Fr√©d√©ric Jardin': 0.0013432, 'Fr√©d√©ric Mermoud': 0.0, 'Fyodor Bondarchuk': 0.0, 'Galt Niederhoffer': 0.027515555555555557, 'Gareth Evans': 0.5838242222222222, 'Garry Marshall': 2.200800246798584, 'Gary Chapman': 0.5565173142857143, 'Gary David Goldberg': 1.4928433307017546, 'Gary Fleder': 1.8593590824691357, 'Gary Goddard': 0.7880168181818182, 'Gary Goldman': 0.8369623188533147, 'Gary Gulman': 0.0, 'Gary Ross': 1.1028678045977012, 'Gary Sherman': 0.07205533333333333, 'Gary Shore': 3.078988585714286, 'Gary Trousdale': 1.5504477083333332, 'Gary Winick': 10.484685490196078, 'Gaspar No√©': 0.058019153846153845, 'Gauri Shinde': 0.785203488372093, 'Gautham Vasudev Menon': 4.0, 'Gavin Hood': 1.9629503799999999, \"Gavin O'Connor\": 0.9802811, 'Gavin Wiesen': 0.0, 'Gee Malik Linton': 0.0, 'Gene Kelly': 1.3836707916666666, 'Gene Saks': 0.0, 'Gene Wilder': 0.0, 'Genevi√®ve Robert': 0.0, 'Genndy Tartakovsky': 5.915336975, 'Geoff Burrowes': 0.275583, 'Geoff Moore': 0.0150286, 'Geoff Murphy': 4.666666666666667, 'Geoffrey Sax': 4.499223375000001, 'George A. Romero': 2.628594375, 'George Armitage': 0.136171, 'George Bamber': 0.0, 'George Bowers': 0.0, 'George Butler': 0.0, 'George Clooney': 4.993301682222222, 'George Cukor': 2.7921207472818512, 'George Fitzmaurice': 3.9910394265232974, 'George Gallo': 0.0050443076923076926, 'George Haas': 0.0, 'George Lucas': 5.356732921186926, 'George Marshall': 0.0, 'George Miller': 4.667373586666667, 'George P. Cosmatos': 1.9527096744242425, 'George Ratliff': 0.0, 'George Roy Hill': 6.4518765444444455, 'George Seaton': 10.0489151, 'George Sidney': 4.782608695652174, 'George Stevens': 2.9345372460496613, 'George Tillma': 1.52546590625, 'Gerard Stembridge': 0.0, 'Giacomo Ciarrapico': 0.37299998506504173, 'Gil Junger': 3.342385375, 'Gilbert Adler': 0.37333333333333335, 'Gilles Bourdos': 0.0, 'Gilles Paquet-Brenner': 0.0104294, 'Gillian Armstrong': 0.0, 'Gillies MacKinnon': 0.0, 'Gillo Pontecorvo': 1.151935, 'Giuliano Carnimeo': 0.0, 'Giulio Manfredonia': 1.6, 'Giulio Ricciarelli': 0.0, 'Giuseppe Capotondi': 1.100633760276848, 'Giuseppe Tornatore': 0.7131804814814815, 'Glen Goei': 0.5327102803738317, 'Glenn Ficarra': 1.7582738842857142, 'Glenn Gordon Caron': 1.1666319736842106, 'Godfrey Reggio': 0.08004453333333333, 'Gore Verbinski': 3.4243169197368424, 'Goro Miyazaki': 3.090909090909091, 'Graham Baker': 1.00484521875, 'Grant Heslov': 2.86372325, 'Greg Beeman': 2.804159375, 'Greg Berlanti': 2.262035894736842, 'Greg MacGillivray': 0.0, 'Greg Mottola': 3.086643725, 'Gregg Araki': 0.0, 'Gregg Godfrey': 0.0, 'Gregor Jordan': 0.010615944444444445, 'Gregory Hoblit': 0.717263311889401, 'Gregory Nava': 0.0, 'Griffin Dunne': 0.0, 'Gr√©gory Levasseur': 2.133143846153846, 'Guillermo del Toro': 0.8493496666666667, 'Gurinder Chadha': 21.878617799934233, 'Gus Van Sant': 1.2395526370542636, 'Guy Green': 8.49, 'Guy Hamilton': 5.371275324074074, 'Guy Ritchie': 3.1831712814814814, 'Gwen Wetzler': 0.0, 'G√©la Babluani': 0.0, 'G√©rard Krawczyk': 2.2585244137931033, 'G√°bor Csup√≥': 0.5891941666666667, 'Haifaa Al-Mansour': 0.0, 'Haile Gerima': 2.691899, 'Hal Ashby': 0.0, 'Hal Needham': 1.3366588703703703, 'Hal Sutherland': 0.40770475, 'Ham Tran': 0.49153846153846154, 'Hamilton Luske': 0.0, 'Hampton Fancher': 0.0, 'Hans Canosa': 2.163388888888889, 'Harald Zwart': 4.185194686111111, 'Hari': 3.7045454545454546, 'Harold Becker': 2.2800586012406017, 'Harold Cronk': 4.7015134, 'Harold Ramis': 3.2824643222602736, 'Harry Elfont': 2.5605015, 'Harry Winer': 0.5387632777777778, 'Hart Bochner': 0.4834193333333333, 'Hayao Miyazaki': 3.301446, 'Hector Babenco': 0.037386194444444444, 'Henri-Georges Clouzot': 0.0, 'Henrik Ruben Genz': 0.0, 'Henry Alex Rubin': 5.834036666666667, 'Henry Hathaway': 4.0285714285714285, 'Henry Joost': 24.730252175438597, 'Henry King': 1.0, 'Henry Koster': 8.78048780487805, 'Henry Selick': 0.7610858947368421, 'Herbert Ross': 2.5916016458333333, 'Herman Yau': 0.0, 'Hideaki Anno': 1.7111111111111112, 'Hideo Nakata': 3.4903516422222225, 'Hirokazu Koreeda': 0.0, 'Homi Adajania': 2.9375, 'Hong Sang-soo': 0.0, 'Howard Deutch': 0.9395833879629629, 'Howard Hawks': 1.0013333333333334, 'Howard Storm': 3.125, 'Howard Zieff': 0.0, 'Hue Rhodes': 0.029402894736842104, 'Hugh Johnson': 0.1609138, 'Hugh Wilson': 2.8136475384615385, 'Iain Softley': 1.2585678279069767, 'Ice-T': 0.0, 'Ilisa Barbash': 0.0, 'Ilya Maksimov': 0.7707606666666666, 'Imogen Kimmel': 0.0, 'Imtiaz Ali': 2.0, 'Indra Kumar': 8.545454545454545, 'Ingmar Bergman': 0.0, 'Inna Evlannikova': 0.26, 'Ira Sachs': 0.0, 'Isao Takahata': 0.49059294117647056, 'Ivan Reitman': 6.277196669154869, 'Ivan Vyrypaev': 0.0, 'J Blakeson': 1.0846425, 'J. Lee Thompson': 3.462554462953323, 'J.B. Rogers': 9.585119833333334, 'Jack Arnold': 0.0, 'Jack Bender': 1.5815580769230768, 'Jack Fisk': 0.0, 'Jack Sholder': 0.40892845, 'Jack Smight': 9.547619047619047, 'Jacob Aaron Estes': 1.207886, 'Jacob Kornbluth': 0.0, 'Jacques Audiard': 0.8364294480519481, 'Jacques Deray': 0.0, 'Jacques Tourneur': 29.850746268656717, 'Jake Kasdan': 0.4597073857142857, 'Jake Szymanski': 2.335401393939394, 'Jalil Lespert': 1.7521908333333334, 'Jalmari Helander': 0.8823529411764706, 'James Cameron': 11.077248783783784, 'James DeMonaco': 12.086983, 'James Dearden': 0.0, 'James Fargo': 17.0, 'James Foley': 0.45080718, 'James Frawley': 0.0, 'James Gartner': 0.0, 'James Gray': 0.2740799, 'James Gunn': 4.433036320147059, 'James Ivory': 0.08835714285714286, 'James Keach': 0.0, 'James Kent': 0.0, 'James L. Brooks': 0.405574225, 'James Longley': 0.0, 'James Manera': 0.1693408, 'James Mangold': 4.37639611468254, 'James Marsh': 4.157552536507936, 'James McTeigue': 1.7972953931623932, 'James Orr': 0.76896265, 'James Ponsoldt': 0.9459815555555555, 'James Vanderbilt': 0.2647452083333333, 'James Wan': 25.567041633643726, 'James Ward Byrkit': 0.0, 'James Watkins': 0.0, 'James Wong': 3.0962198946938773, 'Jamie Babbit': 2.1666666666666665, 'Jamie Blanks': 5.1805425, 'Jan Ole Gerster': 9.167583333333333, 'Jan Verheyen': 0.0, 'Jan de Bont': 1.0840183625, 'Jane Campion': 5.557143496031745, 'Jared Cohn': 1.0, 'Jason Bateman': 0.4105263157894737, 'Jason Friedberg': 4.0273933, 'Jason Moore': 6.785319176470588, 'Jason Reitman': 8.468499573333332, 'Jaume Balaguer√≥': 7.865607936507936, 'Jaume Collet-Serra': 2.8953897233333334, 'Javier C√°rdenas': 0.0, 'Jay Chandrasekhar': 2.6161829650793647, 'Jay DiPietro': 0.022552, 'Jay Duplass': 0.441758, 'Jay Oliva': 0.0, 'Jay Roach': 3.162753612012987, 'Jay Russell': 1.2772049333333333, 'Jazz Boon': 0.0, 'Jean Claude Tramont': 0.0, 'Jean Negulesco': 2.7174515235457064, 'Jean-Claude Van Damme': 9.798003333333334, 'Jean-Fran√ßois Pouliot': 0.0, 'Jean-Fran√ßois Richet': 1.1764823333333334, 'Jean-Jacques Annaud': 0.48533708053691277, 'Jean-Jacques Beineix': 0.0, 'Jean-Luc Godard': 1.5238083333333334, 'Jean-Marc Vall√©e': 0.7831396857142857, 'Jean-Paul Rappeneau': 0.42857142857142855, 'Jean-Pierre Jeunet': 2.3142857142857145, 'Jean-Pierre Melville': 0.0, 'Jeb Stuart': 0.17519445945945947, 'Jeethu Joseph': 0.0, 'Jeff Bleckner': 0.0, 'Jeff Blyth': 1.6307354, 'Jeff Broadstreet': 0.483315, 'Jeff Burr': 0.0, 'Jeff Celentano': 0.0, 'Jeff Nichols': 0.4824947888888889, 'Jeff Pollack': 100.0, 'Jeff Tremaine': 6.616246545454546, 'Jeff Wadlow': 2.1246143464285714, 'Jeffrey Blitz': 0.6611184, 'Jehane Noujaim': 0.0, 'Jennifer Chambers Lynch': 0.0, 'Jennifer Flackett': 2.704766, 'Jen√©e LaMarque': 0.0, 'Jeremiah S. Chechik': 0.0, 'Jeremy Garelick': 3.46956, 'Jeremy Kagan': 0.0, 'Jeremy Leven': 0.888, 'Jeroen Krabb√©': 0.0, 'Jerry Jameson': 1.400754, 'Jerry Paris': 0.0, 'Jerry Zaks': 0.5566654347826087, 'Jerry Zucker': 12.63727668181818, 'Jesse Dylan': 1.2460096222222221, 'Jesse Peretz': 0.0, 'Jesse V. Johnson': 0.0, 'Jessica Oreck': 0.0, 'Jia Zhangke': 0.0, 'Jim Abrahams': 0.0, 'Jim Drake': 0.0, 'Jim Gillespie': 7.387419647058824, 'Jim Jarmusch': 2.28710505, 'Jim Kouf': 0.0, 'Jim McBride': 0.0, 'Jim Mickle': 0.025573076923076924, 'Jim Sharman': 94.0769325, 'Jim Sheridan': 5.905410038448185, 'Jim Sonzero': 0.7870443421052632, 'Jim Wynorski': 0.0, 'Jimmy Hayward': 2.7478706705882354, 'Jimmy T. Murakami': 5.5, 'Jingle Ma': 1.11504675, 'Jingming Guo': 0.0, 'Joachim Trier': 0.014708090909090909, 'Joan Micklin Silver': 0.0, 'Jocelyn Moorhouse': 0.768650461022632, 'Jodie Foster': 1.167046864197531, 'Joe Alves': 4.2920514634146345, 'Joe Carnahan': 2.191848568916563, 'Joe Chappelle': 0.0, 'Joe Dante': 3.900681331590909, 'Joe Johnston': 1.8767969592592593, 'Joe Nussbaum': 1.0458545454545454, 'Joe Pytka': 3.1275, 'Joe Roth': 0.1945523430240276, 'Joe Swanberg': 0.0, 'Joe Wright': 0.4615304777777778, 'Joel Coen': 3.6735845039682538, 'Joel Edgerton': 11.7957306, 'Joel Gallen': 4.15427075, 'Joel Schumacher': 2.8055805470530055, 'Joel Zwick': 73.7488088, \"John 'Bud' Cardos\": 34.0, 'John A. Davis': 3.23744928, 'John Badham': 0.0, 'John Bonito': 1.1082804, 'John Boorman': 3.178857909090909, 'John Bruno': 0.1868092, 'John Burgess': 0.0, 'John Cameron Mitchell': 1.0258116, 'John Carpenter': 2.293322492034632, 'John Cornell': 0.0, 'John Crowley': 0.0, 'John Curran': 0.21544813636363636, 'John Dahl': 0.9701015778079711, 'John Derek': 0.0, 'John Erick Dowdle': 3.40461825, 'John Erman': 0.0, 'John Flynn': 1.416898607142857, 'John Ford': 2.181387377257328, 'John Frankenheimer': 0.7165839177716331, 'John G. Avildsen': 203747.8748397015, 'John Glen': 4.384506526607143, 'John Glenn': 0.05723076923076923, 'John Guillermin': 2.8890764613526567, 'John Hamburg': 3.1647073861788617, 'John Harrison': 4.664163714285714, 'John Herzfeld': 0.018793363636363636, 'John Hillcoat': 0.86360328125, 'John Hughes': 11.689394833333333, 'John Huston': 3.063944915495577, 'John Hyams': 0.06252757142857143, 'John Irvin': 1.9069951764705881, 'John Lafia': 2.7510465384615386, 'John Landis': 20.042654172975173, 'John Lasseter': 6.3669742183333335, 'John Luessenhop': 2.15799046875, 'John Madden': 0.2692773076923077, 'John Maybury': 0.7284905172413794, 'John McNaughton': 0.0, 'John McTiernan': 1.2355637805882353, 'John Milius': 9.13726119047619, 'John Moore': 2.367156525, 'John Ottman': 2.7553115714285714, 'John Patrick Kelley': 0.0, 'John Penney': 1.5e-05, 'John R. Leonetti': 39.272894307692304, 'John Ridley': 0.0, 'John Sayles': 2.6539926, 'John Scheinfeld': 0.0, 'John Schlesinger': 0.97451088, 'John Schultz': 0.9972941694444444, 'John Singleton': 1.4332309542443062, 'John Stainton': 0.0, 'John Stockwell': 0.6597655953846153, 'John Sturges': 1.8109434828219253, 'John Turturro': 0.0, 'John Warren': 0.0, 'John Waters': 125.3701720446387, 'John Wayne': 0.6583333333333333, 'John Wells': 1.83033715, 'John Whitesell': 3.45647655, 'John Woo': 0.729422901268116, 'Jon Amiel': 0.0, 'Jon Avnet': 1.2195761, 'Jon Cassar': 3.0658387, 'Jon Favreau': 1.083870800613497, 'Jon Hurwitz': 3.6244269166666667, 'Jon Lucas': 3.6973593846153845, 'Jon M. Chu': 6.557247826086956, 'Jon Purdy': 0.0, 'Jon S. Baird': 1.8228528, 'Jon Turteltaub': 4.848160393624542, 'Jonas Elmer': 3.626352125, 'Jonathan Barr√©': 0.6498662262712452, 'Jonathan Dayton': 12.565397625, 'Jonathan Demme': 1.11666675, 'Jonathan Frakes': 1.4920493461538462, 'Jonathan Kaplan': 0.52, 'Jonathan Kesselman': 0.0920276, 'Jonathan King': 0.0, 'Jonathan Levine': 1.7581137333333334, 'Jonathan Liebesman': 2.449524447619048, 'Jonathan Lynn': 1.0024050483252622, 'Jonathan Mostow': 1.8758150937873357, 'Jonathan R. Betuel': 0.0, 'Jonathan Wacks': 0.0, 'Jong-seok Yoon': 0.0, 'Joona Tena': 1.097910295825554, 'Jordan Peele': 50.48685, 'Jordan Rubin': 0.0, 'Jorge R. Gutierrez': 1.94874212, 'Josef Fares': 0.0, 'Josef Rusnak': 1.1602555, 'Josep Maria Dom√®nech': 0.0, 'Joseph Kosinski': 2.3533103705882352, 'Joseph L. Mankiewicz': 1.163594169612727, 'Joseph Ruben': 3.269005649122807, 'Joseph Sargent': 2.2556962173913044, 'Joseph Zito': 7.73515075, 'Josh Boone': 25.597236166666665, 'Josh Radnor': 0.0, 'Josh Trank': 1.3998133, 'Joshua Seftel': 0.2592368, 'Joshua Zeman': 0.0, 'Joss Whedon': 5.963190158116883, 'Jos√© Luis Cuerda': 2.0, 'Jos√© Padilha': 1.0112040208333333, 'Juan Antonio Bayona': 4.292241023809524, 'Juan Piquer Sim√≥n': 0.0, 'Judd Apatow': 4.512709723901099, 'Jules Bass': 0.0, 'Jules Dassin': 26.490066225165563, 'Julian Gilbey': 6.33625, 'Julian Jarrold': 0.330107275, 'Julian Schnabel': 0.7063445357142857, 'Julie Anne Robinson': 0.922343025, 'Julie Delpy': 0.0, 'Julie Taymor': 4.6915395, 'Julien Temple': 0.3916303, 'Julio M√©dem': 0.0, 'Jun Lana': 3.100644122383253, 'Juno Mak': 0.0, 'Just Jaeckin': 0.0, 'Justin Barber': 1.2857142857142858, 'Justin Lin': 3.0684268058823534, 'J√°nos Sz√°sz': 0.0, 'K. S. Ravikumar': 1.0, 'K. V. Anand': 5.57113582150576, 'Kamal Haasan': 2.128205128205128, 'Karan Johar': 2.2972972972972974, 'Karen Oganesyan': 0.404785, 'Kari Skogland': 0.0, 'Karl Zwicky': 12.912060465690367, 'Kat Coiro': 0.0, 'Kathryn Bigelow': 1.6636692625, 'Kazuaki Kiriya': 0.255036, 'Keanu Reeves': 0.08219764, 'Keenen Ivory Wayans': 8.885428407602339, 'Keishi Ohtomo': 0.0, 'Keith Bearden': 0.0063298, 'Kelly Asbury': 5.269789777777778, 'Kelly Fremon Craig': 2.089294222222222, 'Kelly Nyks': 0.0, 'Ken Annakin': 1.063968272185878, 'Ken Kwapis': 1.2990933875, 'Ken Loach': 0.0, 'Ken Russell': 0.0, 'Kenneth Branagh': 0.8424851166666667, 'Kenneth Johnson': 0.1054018125, 'Kenneth Lonergan': 0.0033210714285714284, 'Kevin Bray': 1.8202093571428573, 'Kevin Costner': 19.282220363636362, 'Kevin Greutert': 6.8075217, 'Kevin Hooks': 2.9377102, 'Kevin Lima': 1.4933333333333334, 'Kevin Macdonald': 2.638153291666667, 'Kevin Munroe': 0.2317031, 'Kevin Rafferty': 0.0, 'Kevin Reynolds': 3.780664652150538, 'Kevin Rodney Sullivan': 1.9690253714285715, 'Kevin Smith': 41.31299572839506, 'Kevin Tancharoen': 2.073693111111111, 'Kevin Tenney': 0.0, 'Kevin Yagher': 4.16875, 'Kieth Merrill': 0.0, 'Kim Han-min': 6.125, 'Kim Henkel': 0.30983, 'Kim Ki-duk': 17.58898058252427, 'Kim Tae-yong': 0.7774193548387097, 'Kimberly Peirce': 5.7703035, 'Kinka Usher': 0.4376766323529412, 'Kirill Kuzin': 1.510204923076923, 'Kirk Jones': 3.4663403055555553, 'Kirk Wong': 0.0, 'Kiyoshi Kurosawa': 4.95, 'Kleber Mendon√ßa Filho': 0.3751175809225691, 'Kodi Rama Krishna': 4.801527160009864, 'Koji Hashimoto': 2.05, 'Konstantin Bronzit': 0.4325, 'Korn√©l Mundrucz√≥': 0.12834454545454546, 'Krish (Radhakrishna Jagarlamudi)': 3.727272727272727, 'Kristian Levring': 4.006666666666667, 'Kristopher Belman': 0.0, 'Krzysztof Kie≈õlowski': 0.0, 'Kunal Kohli': 4.18413358490566, 'Kunihiko Yuyama': 0.0, 'Kurt Neumann': 4.285714285714286, 'Kyle Lawrence': 0.07758518518518519, 'Lana Wachowski': 1.5580704444444444, 'Lance Daly': 0.0008676666666666667, 'Lance Hool': 4.462841078838174, 'Lance Rivera': 7.5e-07, 'Larry Charles': 2.759685123076923, 'Larry Clark': 2.4707386666666666, 'Lasse Hallstr√∂m': 3.839095448282828, 'Lasse √Öberg': 0.0, 'Laurice Guillen': 0.011627906976744186, 'Law Chi-Leung': 0.009802416666666666, 'Lawrence Guterman': 1.5562525166666668, 'Lawrence Kasdan': 1.113462294117647, 'Lee Tamahori': 2.419241994047619, 'Lee Toland Krieger': 2.62653104, 'Leigh Janiak': 0.009318, 'Lena Dunham': 6.4076615384615385, 'Lenny Abrahamson': 0.0, 'Leo McCarey': 0.0, 'Leonard Nimoy': 5.1875, 'Leos Carax': 0.0, 'Les Mayfield': 0.0, 'Leslie Greif': 0.0, 'Leslie Small': 0.0, 'Leslie Zemeckis': 0.095436, 'Leslye Headland': 1.9913256666666668, 'Levan Gabriadze': 62.88209, 'Lewis Gilbert': 12.49569327631579, 'Lexi Alexander': 0.49216453658536585, 'Liev Schreiber': 0.38541857142857144, 'Lilly Wachowski': 0.7828813833333333, 'Lisa Cholodenko': 4.957978571428572, 'Liz Friedlander': 1.1580688666666668, 'Liza Johnson': 0.0, 'Logan Miller': 0.0008781428571428572, 'Lone Scherfig': 2.603546053263013, 'Lorene Scafaria': 1.333505625, 'Louis C.K.': 4.0, 'Louis Leterrier': 1.7605433668303572, 'Louis Malle': 0.0, 'Louis Morneau': 0.0, 'Lu Chuan': 0.8877081666666666, 'Luc Besson': 1.1396425657407405, 'Luc Dardenne': 0.9801218571428572, 'Luca Guadagnino': 0.0, 'Lucky McKee': 0.300554, 'Lucy Bailey': 0.0, 'Lucy Walker': 0.125144, 'Luigi Cozzi': 0.0, 'Luis Bu√±uel': 0.0, 'Luis Garc√≠a Berlanga': 0.0, 'Luis Mandoki': 0.13600327641509433, 'Luis Valdez': 8.340833230769231, 'Lukas Moodysson': 0.0, 'Luke Greenfield': 2.5348768872727274, 'Lynn Shelton': 12.8, 'M. Night Shyamalan': 12.145669251752135, 'Mabrouk El Mechri': 0.84317915, 'Maggie Carey': 2.377483333333333, 'Majid Majidi': 2.5, 'Maksim Voronkov': 0.05114285714285714, 'Malcolm D. Lee': 2.276760468571428, 'Malcolm Venville': 0.017078333333333334, 'Mamoru Hosoda': 0.0, 'Mamoru Oshii': 0.0, 'Mandie Fletcher': 0.0, 'Maneesh Sharma': 1.82822475, 'Mani Ratnam': 3.641843971631206, 'Manny Coto': 0.0, 'Manny Rodriguez': 0.0, 'Mansoor Khan': 2.1739130434782608, 'Marc Abraham': 0.126676, 'Marc Forby': 0.08572211111111111, 'Marc Forster': 2.3551059062500004, 'Marc Lawrence': 3.64741055, 'Marc Rocco': 0.0, 'Marc Webb': 8.096364533333333, 'Marco Brambilla': 2.7904520701754385, 'Marco Schnabel': 0.6745010322580646, 'Marco Tullio Giordana': 0.0, 'Marcus Adams': 0.0, 'Marcus Raboy': 0.0009069, 'Maren Ade': 0.39299092699047183, 'Mario Van Peebles': 0.0, 'Marisa Silver': 0.236642375, 'Marius Balchunas': 1.6189166666666666, 'Mark A.Z. Dipp√©': 2.19600105, 'Mark Burton': 0.0, 'Mark Christopher': 0.6445062692307693, 'Mark Christopher Covino': 0.0, 'Mark Dindal': 0.11145740625, 'Mark Fergus': 0.0, 'Mark L. Lester': 0.37875067788461536, 'Mark Levin': 0.0, 'Mark Pellington': 0.7576947333333334, 'Mark Robson': 11.38095042857143, 'Mark Rosman': 3.687784684210526, 'Mark Rucker': 0.0, 'Mark Rydell': 1.6809682962962962, 'Mark Sandrich': 5.257799671592775, 'Mark Steven Johnson': 0.91267075, 'Mark Waters': 5.078987538982586, 'Marshall Brickman': 0.21666666666666667, 'Martha Coolidge': 0.0, 'Martin Brest': 2.2301063742532854, 'Martin Campbell': 3.107100193356019, 'Martin Koolhoven': 0.67013975, 'Martin Lawrence': 6.3946716666666665, 'Martin McDonagh': 2.3022522, 'Martin Ritt': 0.22652206521739132, 'Martin Scorsese': 2.2051392055180443, 'Mart√≠n Hodara': 0.36, 'Marvin J. Chomsky': 0.0, 'Mary Lambert': 3.5669507907608695, 'Mary McDonagh Murphy': 0.0, 'Mar√≠a Ripoll': 0.0, 'Massy Tadjedin': 1.0921338571428572, 'Mat Whitecross': 0.0, 'Mathieu Kassovitz': 3.5397831, 'Matt Brown': 0.0, 'Matt Reeves': 1.820442834868421, 'Matteo Garrone': 0.0, 'Matthew Robbins': 0.0, 'Matthew Ross': 0.0, 'Matthew Vaughn': 3.4353179642857143, 'Matthijs van Heijningen Jr.': 0.8036762857142857, 'Maurice Pialat': 0.0, 'Max Adams': 0.009586571428571429, 'Max Joseph': 1.8536816666666667, 'Max Winkler': 0.0, 'Ma√Øwenn': 0.0, 'McG': 2.4149931846153847, 'Meiert Avis': 0.11624066666666667, 'Mel Brooks': 18.961571286199092, 'Mel Damski': 0.0, 'Mel Gibson': 7.771104666666667, 'Mel Stuart': 1.3333333333333333, 'Mervyn LeRoy': 3.6363636363636362, 'Michael Addis': 0.00117, 'Michael Anderson': 2.615376722222222, 'Michael Apted': 1.0458705789473683, 'Michael Austin': 0.0, 'Michael Bay': 4.392679330632591, 'Michael Brandt': 0.2174254117647059, 'Michael Burke': 0.078565, 'Michael Caton-Jones': 0.8851682222222222, 'Michael Cimino': 1.1375075580808083, 'Michael Corrente': 0.0, 'Michael Cristofer': 0.0, 'Michael Cuesta': 0.4901692, 'Michael Curtiz': 7.098143507972665, 'Michael D. Sellers': 0.0287616, 'Michael Damian': 0.0, 'Michael Dougherty': 4.103247133333333, 'Michael Dowse': 0.2845771985645933, 'Michael Dudok de Wit': 0.0, 'Michael Haigney': 4.370340177083333, 'Michael Haneke': 0.0, 'Michael Hoffman': 0.0, 'Michael J. Bassett': 0.0, 'Michael Lehmann': 0.09051198461538462, 'Michael Lembeck': 3.317232183333333, 'Michael Mak': 0.0, 'Michael Mann': 1.4868067736060235, 'Michael Mayer': 0.8191503846153846, 'Michael McCullers': 2.1277816333333335, 'Michael Miller': 5.168539325842697, 'Michael Patrick Jann': 1.0571408, 'Michael Patrick King': 6.3885044, 'Michael Polish': 0.4827598653846154, 'Michael Radford': 0.34097935, 'Michael Ritchie': 5.9102455031818, 'Michael Salomon': 0.0, 'Michael Sarne': 0.6, 'Michael Schultz': 2.4217168666666664, 'Michael Spierig': 2.5708232, 'Michael Steinberg': 0.3056332, 'Michael Sucsy': 6.537152333333333, 'Michael Tolkin': 1.0407364830238854, 'Michael Winterbottom': 1.1830544375, 'Micha√´l R. Roskam': 1.5122646031746032, 'Michel Gondry': 1.8984770666666666, 'Michel Hazanavicius': 8.895523733333333, 'Mick Garris': 0.0, 'Mick Jackson': 8.42380925, 'Miguel Arteta': 0.0, 'Mihalis Kakogiannis': 27.0, 'Mike Birbiglia': 0.0, 'Mike Clattenburg': 0.7667014, 'Mike Figgis': 0.05506214583333333, 'Mike Flanagan': 5.9614884740740735, 'Mike Gabriel': 6.292359509090909, 'Mike Gunther': 0.1064093, 'Mike Judge': 0.6863039875, 'Mike Leigh': 1.132766375, 'Mike McCoy': 6.7727305, 'Mike Mills': 0.8332696875, 'Mike Mitchell': 2.621312348, 'Mike Newell': 21.824426433333333, 'Mike Nichols': 4.081719816513057, 'Mike Thurmeier': 3.891228933333333, 'Milo≈° Forman': 1.53817607, 'Mimi Leder': 1.392685275, 'Mira Nair': 0.0, 'Missing Director': 3.072611148775341, 'Mohsen Makhmalbaf': 0.0, 'Morgan Spurlock': 0.0, 'Mort Nathan': 0.0, 'M√©lanie Laurent': 0.0, 'Nacho Vigalondo': 0.21276846153846155, 'Nancy Meyers': 3.6542999430672274, 'Natsuki Imai': 0.0, 'Ned Benson': 0.0, 'Neil Abramson': 2.6422517142857145, 'Neil Jordan': 5.151899809824179, 'Neil LaBute': 0.67334956, 'Neill Blomkamp': 3.8820344623582765, 'Nelson Shin': 0.9749411666666666, 'Nettie Wild': 0.2570145903479237, 'Newt Arnold': 7.870746, 'Nicholas Mastandrea': 0.0, 'Nicholas Meyer': 0.0, 'Nicholas Ray': 0.5882352941176471, 'Nicholaus Goossen': 0.0, 'Nick Broomfield': 0.0, 'Nick Cassavetes': 2.7375395395833335, 'Nick Castle': 2.6330729761904763, 'Nick Gomez': 0.9641995, 'Nick Hurran': 0.6295666285714285, 'Nick Murphy ': 0.043702736527077145, 'Nick Ormerod': 0.9225845555555555, 'Nick Park': 6.4150944, 'Nicolas Winding Refn': 5.203655, 'Nicole Garcia': 0.004635728155339806, 'Nicole Kassell': 0.0, 'Nicol√°s L√≥pez': 0.029255, 'Nigel Cole': 2.03130275, 'Nikhil Advani': 0.44761904761904764, 'Niki Caro': 0.65812375, 'Nikita Mikhalkov': 0.9344653571428572, 'Nikolai M√ºllersch√∂n': 0.0022355, 'Nimr√≥d Antal': 3.156220325, 'Nitesh Tiwari': 29.807692307692307, 'Noah Baumbach': 0.0, 'Noam Murro': 3.0689095545454546, 'Noel Clarke': 0.2530363043478261, 'Nora Ephron': 5.981639409859585, 'Norman Jewison': 1.47912482, 'Norman Lear': 0.0, 'Norman Ren√©': 0.0, 'Norton Virgien': 3.3497227666666665, 'Nuri Bilge Ceylan': 0.0, 'Olaf de Fleur Johannesson': 0.0131375, 'Olatunde Osunsanmi': 4.2333295, 'Ole Bornedal': 3.0516455357142855, 'Ole Schell': 0.0, 'Oles Sanin': 0.6912889515471213, 'Olga Subbotina': 0.6343965, 'Oliver Hirschbiegel': 1.7382281199038292, 'Oliver Parker': 0.6619711071428571, 'Oliver Stone': 1.3402367649124998, 'Olivier Assayas': 0.18215658922558922, 'Olivier Masset-Depasse': 0.0, 'Olivier Megaton': 1.52414635, 'Oren Moverman': 0.0, 'Oren Peli': 12890.386666666667, 'Otto Bell': 0.0, 'P.J. Hogan': 5.039879666666667, 'Pablo Larra√≠n': 0.0, 'Pablo Trapero': 0.0, 'Paddy Breathnach': 0.0, 'Paddy Considine': 0.0, 'Paolo Sorrentino': 0.1497005988023952, 'Paolo Virz√¨': 0.9682216666666666, 'Park Chan-wook': 1.4283366711005832, 'Park Hoon-Jung': 2216.6898, 'Park Kwang-hyun': 4197476.625, 'Pascal Plisson': 0.0, \"Pat O'Connor\": 0.82192785, 'Patricia Riggen': 0.99610892, 'Patrick Brice': 0.0, 'Patrick Hughes': 2.2908060444444445, 'Patrick Lussier': 0.8786057421428571, 'Patrick Read Johnson': 2.7283105500000002, 'Paul Abascal': 0.83028815, 'Paul Andrew Williams': 0.0, 'Paul Currie': 0.0, 'Paul Feig': 3.6256341384615385, 'Paul Greengrass': 2.321702182121212, 'Paul Haggis': 4.547965383602087, 'Paul Johansson': 0.30849166666666666, 'Paul King': 0.0, 'Paul Mazursky': 1.9704334487179487, 'Paul McGuigan': 2.0855141111111113, 'Paul Schrader': 0.1639258, 'Paul Thomas Anderson': 0.7815321875000001, 'Paul Verhoeven': 4.125764917983603, 'Paul W.S. Anderson': 3.016105077949689, 'Paul Weiland': 2.115042025, 'Paul Weitz': 0.6962857198717948, 'Paulo Morelli': 0.0, 'Pavel Sanaev': 0.6555305714285714, 'Pawe≈Ç Pawlikowski': 7.0849334037271685, 'Pedro Almod√≥var': 5.419389200859285, 'Peggy Holmes': 0.0, 'Penelope Spheeris': 0.0, 'Penny Marshall': 0.8517635416666667, 'Pernilla August': 1.6000266666666667, 'Pete Travis': 3.779037275, 'Peter Atencio': 1.3710884666666667, 'Peter Berg': 1.8002117251893939, 'Peter Bogdanovich': 0.26049957142857144, 'Peter Bonerz': 0.0, 'Peter Chelsom': 2.6537898642857143, 'Peter Glenville': 0.0, 'Peter Greenaway': 0.00258, 'Peter Hall': 9.375e-07, 'Peter Hedges': 0.0, 'Peter Howitt': 2.3105478916666664, 'Peter Hyams': 1.330389887016251, 'Peter Jackson': 4.869603438368936, 'Peter Lord': 1.9723060166666666, 'Peter MacDonald': 3.000247793650794, 'Peter Masterson': 0.0, 'Peter Medak': 0.5475874285714286, 'Peter Miller': 0.0, 'Peter Mullan': 0.0, 'Peter Segal': 2.0868533531504063, 'Peter Sohn': 1.89672084, 'Peter Sollett': 0.081905, 'Peter Webber': 0.0, 'Peter Weir': 5.2563926153327305, 'Peter Yates': 3.102494675254965, 'Peyton Reed': 3.228442542857143, 'Phedon Papamichael': 0.0, 'Phil Alden Robinson': 0.0, 'Phil Joanou': 1.3826950333333334, 'Phil Lord': 3.76883228, 'Phil Traill': 1.4461924625, 'Philip Kaufman': 0.5558317494553378, 'Philip Saville': 0.406909, 'Philip Seymour Hoffman': 0.0, 'Philipp St√∂lzl': 1.79013240625, 'Philippe Caland': 0.2379224, 'Philippe Lellouche': 0.0, 'Philippe Mora': 0.0, 'Phillip Borsos': 0.0, 'Phillip J. Roth': 0.0, 'Phillip Noyce': 1.5536365080204138, 'Phyllida Lloyd': 8.842823, 'Pierre Cor√©': 0.0, 'Pierre Morel': 0.7986775833333334, 'Pieter Jan Brugge': 0.0, 'Pip Karmel': 0.0, 'Prabhu Deva': 4.626865671641791, 'Preston A. Whitmore II': 1.206896551724138, 'Priyadarshan': 0.6666666666666666, 'Q. Allan Brocka': 0.440302, 'Quentin Tarantino': 4.292577608585859, 'R.D. Robb': 0.0, 'R.J. Cutler': 7.170440272727273, 'Ra Hee-Chan': 0.0, 'Radu Jude': 0.07619175351155415, 'Radu Muntean': 0.0, 'Raja Gosnell': 2.2305020444444446, 'Rajiv Menon': 1.0, 'Rajkumar Santoshi': 2.0, 'Rakeysh Omprakash Mehra': 5.434782608695652, 'Ralph Bakshi': 2.060244900350877, 'Ralph Fiennes': 0.06964948051948051, 'Ralph S. Singleton': 1.1031324761904762, 'Ralph Zondag': 2.7784161803921568, 'Ram Gopal Varma': 3.1052631578947367, 'Ram Madhvani': 0.2778505905106417, 'Raman Hui': 9.632120425, 'Ram√≥n Men√©ndez': 0.094984, 'Ram√≥n Ob√≥n': 0.0, 'Randal Kleiser': 4.8483431, 'Randall Miller': 0.8081176, 'Randall Wallace': 4.986611976666667, 'Raoul Walsh': 1.0688818953660182, 'Ray Lawrence': 0.19427558823529412, 'Raymond Jafelice': 0.0, 'Rebecca Miller': 0.23743133333333333, 'Reggie Rock Bythewood': 0.979608375, 'Renat Davletyarov': 1.5906742424242424, 'Renata Litvinova': 2.434685, 'Renny Harlin': 0.8545600590701556, 'Rian Johnson': 4.909563859649123, 'Ric Roman Waugh': 1.2265846285714286, 'Riccardo Milani': 0.0, 'Rich Correll': 0.0, 'Rich Moore': 2.855896296969697, 'Richard A. Colla': 11.500121285714286, 'Richard Attenborough': 1.946786196969697, 'Richard Ayoade': 0.0, 'Richard Benjamin': 0.04189265, 'Richard Brooks': 3.466666666666667, 'Richard C. Sarafian': 55.58946615384615, 'Richard Curtis': 7.25837075, 'Richard Donner': 2.978469488888889, 'Richard Fleischer': 5.555555555555555, 'Richard Franklin': 6.945, 'Richard Gabai': 0.0, 'Richard LaGravenese': 1.0752325, 'Richard Lester': 3.527013074074074, 'Richard Levine': 0.0, 'Richard Linklater': 3.8524700002517256, 'Richard Loncraine': 0.08507675, 'Richard Martin': 0.0, 'Richard Ramsey': 0.0, 'Richard Rich': 0.18979755714285712, 'Richard Shepard': 0.8648622, 'Richard Tuggle': 0.0, 'Rick Famuyiwa': 13.612308857142857, 'Rick Jacobson': 0.0, 'Rick Rosenthal': 0.9657655128205128, 'Ridley Scott': 3.7330431324606437, 'Rintaro': 6.60616151724138, 'Ritesh Batra': 4.235151, 'Rithy Panh': 0.0, 'Rob Bowman': 1.207215476744186, 'Rob Cohen': 4.951423450024367, 'Rob Hedden': 2.8, 'Rob Marshall': 2.330309577863777, 'Rob Minkoff': 2.0254474, 'Rob Pritts': 2.179854727272727, 'Rob Reiner': 3.915541965531661, 'Rob Thomas': 0.5808545, 'Rob Zombie': 1.4620503571428571, 'Robert Altman': 2.2217243025066846, 'Robert B. Weide': 0.0, 'Robert Benton': 4.584995305555556, 'Robert Budreau': 0.0, 'Robert Butler': 0.20847432727272727, 'Robert C. Cooper': 1.2714285714285714, 'Robert D. Webb': 9.0, 'Robert De Niro': 0.7048066470588236, 'Robert Florey': 0.0, 'Robert Greenwald': 0.561789875, 'Robert Harmon': 0.9741446666666667, 'Robert Iscove': 10.3166989, 'Robert Luketic': 2.4262950398577328, 'Robert M. Young': 0.0, 'Robert Mandel': 0.0, 'Robert Moresco': 0.017931375, 'Robert Mulligan': 6.564923, 'Robert Patton-Spruill': 0.0206, 'Robert Redford': 1.5083221647321428, 'Robert Resnikoff': 2.2424195, 'Robert Rodriguez': 3.9161744718058578, 'Robert Rossen': 3.8, 'Robert Shaye': 0.0, 'Robert Stevenson': 17.0454545, 'Robert Stromberg': 4.214109916666667, 'Robert Towne': 0.03109692, 'Robert Townsend': 0.0, 'Robert Wise': 0.8814400993171944, 'Robert Zemeckis': 3.926546798383839, 'Roberto Benigni': 11.47, 'Roberto Girault': 0.0, 'Roberts Gannaway': 3.02331574, 'Robin Budd': 5.4931341, 'Rod Daniel': 4.602802764705882, 'Rod Hardy': 0.0116185, 'Rod Lurie': 0.20008072131642513, 'Rodman Flender': 0.6482001000000001, 'Rodney Ascher': 0.0, 'Rodrigo Cort√©s': 0.967941, 'Roger Allers': 17.516483911111113, 'Roger Avary': 0.27930733333333335, 'Roger Christian': 0.0, 'Roger Corman': 0.0, 'Roger Donaldson': 1.1452288977196396, 'Roger Kumble': 1.3608021797342191, 'Roger Michell': 2.693430899206349, 'Roger Spottiswoode': 0.8056778051136363, 'Roger Vadim': 0.2777777777777778, 'Rohit Shetty': 5.810073299949198, 'Roland Emmerich': 1.1073790644444443, 'Roland Joff√©': 0.37574853296296296, 'Rolf de Heer': 0.15, 'Roman Karimov': 4e-06, 'Roman Polanski': 5.404315812499999, 'Ron Casden': 0.0, 'Ron Clements': 4.265291770588235, 'Ron Howard': 2.1837662572522176, 'Ron Shelton': 2.0592420922619046, 'Ron Underwood': 1.4955586978787878, 'Ronald F. Maxwell': 0.23078457142857142, 'Ronny Yu': 2.9285841666666665, 'Rory Kelly': 0.0, 'Rouben Mamoulian': 2.342908438061041, 'Roy London': 0.0, 'Ruben Fleischer': 3.0459831323446327, 'Ruggero Deodato': 0.0, 'Rupert Goold': 0.0, 'Rupert Wainwright': 2.566746222222222, 'Russell Crowe': 0.6897788, 'Russell Mulcahy': 0.5185446666666667, 'Ryan Fleck': 0.811405, 'Ryan Gosling': 0.0227155, 'Ryan Murphy': 1.9864042166666667, 'Ryan Piers Williams': 0.0, 'Ryoo Seung-wan': 0.0, 'Ry√ªhei Kitamura': 0.1306911298850575, 'S. Shankar': 1.3106060606060606, 'Sabbir Khan': 2.380952380952381, 'Sacha Gervasi': 0.0, 'Safy Nebbou': 0.42643514285714285, 'Sam Firstenberg': 5.249847, 'Sam Liu': 0.3595238095238095, 'Sam Mendes': 7.392456921233493, 'Sam Peckinpah': 0.5280938178699511, 'Sam Raimi': 18.09616499, 'Sam Taylor': 2.1274076128693054, 'Sammo Hung': 1.479499059247919, 'Sanaa Hamri': 0.8213410555555556, 'Sangyoon Lim': 2.0969708571428574, 'Sanjay Leela Bhansali': 2.871794871794872, 'Santi Amodeo': 0.0, 'Santosh Sivan': 5.702573918709782, 'Sarah Gavron': 1.14303, 'Saran': 1.0, 'Satish Kaushik': 2.0, 'Satoshi Kon': 0.0, 'Satyajit Ray': 0.0, 'Scott Cooper': 0.7, 'Scott Derrickson': 7.590340421052631, 'Scott Frank': 0.335439375, 'Scott Hicks': 0.0, 'Scott McGehee': 0.2448924642857143, 'Scott Prendergast': 0.0, 'Scott Sanders': 0.10226103448275863, 'Scott Stewart': 1.958704130128205, 'Scott Walker': 0.20194529757531227, 'Sean Anders': 0.9871545263157895, 'Sean Ellis': 0.5111111111111111, 'Sean Garrity': 0.0, 'Sean McGinly': 0.0, 'Sean Penn': 1.8888231857142856, 'Sean S. Cunningham': 54.32236454545455, 'Sebastian Gutierrez': 0.0, 'Sekhar Kammula': 6.000009087996801, 'Sergei Bodrov': 1.2018801368421053, 'Sergei Glezin': 6.336861666666667, 'Sergei Loban': 0.196908, 'Sergei M. Eisenstein': 0.0, 'Sergey Bondarchuk': 0.12208, 'Sergey Nikonenko': 0.0, 'Sergio Corbucci': 0.0, 'Seth Gordon': 3.508550034821429, 'Seth MacFarlane': 7.0894374735294114, 'Seth Rogen': 0.2805143636363636, 'Shainee Gabel': 0.0, 'Shana Feste': 1.3686129333333332, 'Shane Acker': 1.6142687666666666, 'Shane Black': 1.25576436, 'Shane Carruth': 32.56049, 'Shane Meadows': 3.43552268907563, 'Shari Springer Berman': 0.06472557142857142, 'Sharmeen Obaid-Chinoy': 4.506737734807787, 'Sharon Maguire': 6.055783428571429, 'Shawn Christensen': 0.0, 'Shawn Levy': 2.1252092278648553, 'Shekhar Kapur': 2.7383547333333333, 'Sheldon Lettich': 3.0099402333333334, 'Sherry Hormann': 0.0, 'Shim Hyung-Rae': 1.2462686567164178, 'Shinji Aramaki': 3.5724807666666667, 'Shoojit Sircar': 2.616326033670034, 'Shusuke Kaneko': 1.38966, 'Siddharth Anand': 0.921875, 'Siddique': 0.06153846153846154, 'Sidney Lumet': 0.4115071750356125, 'Sidney Poitier': 0.0, 'Simon Brand': 0.9022237837837838, 'Simon Curtis': 5.477765, 'Simon Hunter': 0.254145625, 'Simon Klose': 0.0, 'Simon Moore': 0.0, 'Simon Wells': 0.0, 'Simon West': 1.2773516837301588, 'Simon Wincer': 2.6897984833333335, 'Sngmoo Lee': 0.26398973809523807, 'So Yong Kim': 0.0, 'Sofia Coppola': 11.36299907142857, 'Spike Jonze': 1.00086793, 'Spike Lee': 0.9702907157777778, 'Stacy Peralta': 1.2176923076923076, 'Stacy Title': 0.00259, 'Stan Dragoti': 0.0, 'Stanley Donen': 0.0, 'Stanley Kramer': 14.16666675, 'Stanley Kubrick': 6.051154995804196, 'Stanley Tong': 2.1594698, 'Stefan Ruzowitzky': 0.003531291666666667, 'Stephan Elliott': 1.163238169742699, 'Stephen Belber': 0.0, 'Stephen Chow': 1.6819074166666665, 'Stephen Cornwell': 0.000594, 'Stephen Daldry': 11.8319566, 'Stephen Elliott': 0.0012012, 'Stephen Frears': 4.955958628735632, 'Stephen Gaghan': 1.1206759499999999, 'Stephen Herek': 1.732572102105263, 'Stephen Hopkins': 1.6344261160714284, 'Stephen Kessler': 1.4560144, 'Stephen Milburn Anderson': 0.006641142857142857, 'Stephen Poliakoff': 0.0, 'Stephen Sommers': 1.0627826760416668, 'Stephen St. Leger': 1.6102015, 'Stephen T. Kay': 1.8324393444968554, 'Stephen Vittoria': 0.0, 'Stevan Filipoviƒá': 0.000396, 'Steve Beck': 1.9528538285714285, 'Steve Bendelack': 9.18945376, 'Steve Carr': 4.047166595701358, 'Steve Carver': 2.4465256, 'Steve De Jarnatt': 0.0014, 'Steve James': 5.630125071428571, 'Steve McQueen': 0.0, 'Steve Miner': 8.895635405555556, 'Steve Oedekerk': 7.079517766666667, 'Steve Pink': 2.157987824886128, 'Steve Rash': 3.0563348355769233, 'Steve Trenbirth': 6.784, 'Steven Brill': 0.003947266666666667, 'Steven C. Miller': 0.0, 'Steven Knight': 1.367647125, 'Steven Lisberger': 0.9705882352941176, 'Steven Quale': 3.21204388, 'Steven R. Monroe': 0.2864045, 'Steven Shainberg': 2.32615225, 'Steven Soderbergh': 1.7524341254184326, 'Steven Spielberg': 12.442446603520024, 'Steven Zaillian': 0.49093796688311686, 'Stewart Hendler': 0.6272403, 'Stewart Raffill': 0.28864815384615383, 'Stuart Baird': 1.7061234166666666, 'Stuart Gillard': 0.0, 'Stuart Gordon': 0.1723964311111111, 'Stuart Hazeldine': 2.86654365, 'Stuart Millar': 0.0, 'Stuart Paton': 40.0, 'Stuart Rosenberg': 5.405924333333333, 'Stuart Townsend': 0.113605875, 'Stuart Urban': 0.0, 'St√©phane Briz√©': 0.0, 'St√©phane Rybojad': 0.0010759, 'Subodh Bhave': 2.933333333333333, 'Sujoy Ghosh': 13.333333333333334, 'Sunao Katabuchi': 0.0, 'Susan Seidelman': 5.48, 'Susan Stroman': 0.8457407777777778, 'Susanna White': 0.0, 'Susanne Bier': 0.9106303636363636, 'Svyatoslav Podgayevskiy': 1.1140575, 'Sydney Pollack': 1.7702981838037635, 'Sylvain Chomet': 0.31124616666666666, 'Sylvester Stallone': 10.03511401894958, 'Takashi Miike': 1.821514995614035, 'Takashi Yamazaki': 1.1865879714285714, 'Tamara Hernandez': 0.0, 'Tamra Davis': 2.5813197444444445, 'Tanya Wexler': 0.0, 'Tarsem Singh': 2.153159082352941, 'Tar√¥ Ohtani': 0.0, 'Tate Taylor': 0.0, 'Tay Garnett': 4.227777777777778, 'Taylor Hackford': 0.44015848571428573, 'Ted Koland': 0.001292, 'Ted Kotcheff': 1.6695053866666665, 'Ted Post': 3.1666196666666666, 'Teddy Chan': 0.12948825652173915, 'Terence Fisher': 1.3015846407897882, 'Terence Young': 14.210968909090909, 'Terrence Malick': 0.692701265625, 'Terry Gilliam': 3.436477650816993, 'Terry Jones': 2.5473060416666664, 'Theodore Melfi': 6.723100204615385, 'Thierry Notz': 0.0, 'Thom Eberhardt': 4.806307333333334, 'Thomas Bezucha': 0.87125, 'Thomas Cailley': 0.0, 'Thomas Carter': 3.003825058119658, 'Thomas Gilou': 5.38184076433121, 'Thomas J. Wright': 2.011706375, 'Thomas K. Avildsen': 0.0, 'Thomas Langmann': 1.366575355988253, 'Thomas Vinterberg': 0.0, 'Thor Freudenthal': 1.9397639, 'Thunder Levin': 0.0, 'Ti West': 0.00230525, 'Tian Xiao Peng': 15.0, 'Til Schweiger': 0.0, 'Tim Blake Nelson': 0.0, 'Tim Burstall': 0.0, 'Tim Burton': 3.4942272482905987, 'Tim Hill': 1.44103175, 'Tim Miller': 13.501947913793103, 'Tim Story': 4.247205641111111, 'Tim Sullivan': 0.0, 'Timo Vuorensola': 1.0846708, 'Timothy A. Chey': 0.0, 'Timothy Armstrong': 0.0, 'Timothy Wayne Folsome': 0.0, 'Timur Bekmambetov': 7.234923996547619, 'Toa Fraser': 0.0, 'Tobias Lindholm': 0.0, 'Toby Wilkins': 7.7220018, 'Tod Browning': 3.2036105878514327, 'Tod Williams': 0.0, 'Todd Haynes': 1.5127612116525424, 'Todd Phillips': 4.75262163299163, 'Todd Solondz': 0.5506556666666667, 'Togan G√∂kbakar': 5.33, 'Tom Dey': 1.67523688, 'Tom Ford': 1.3001323555555555, 'Tom Gianas': 0.0, 'Tom Gries': 16.0, 'Tom Gustafson': 0.0, 'Tom Hanks': 0.6026729166666667, 'Tom Holland': 4.910742666666667, 'Tom Kalin': 1.360588, 'Tom Laughlin': 100.0, 'Tom McCarthy': 6.11443528426835, 'Tom McGrath': 3.990519264, 'Tom McLoughlin': 6.490685666666667, 'Tom Putnam': 0.49466666666666664, 'Tom Shadyac': 3.0028126095238092, 'Tom Tykwer': 1.2792438039215686, 'Tom Vaughan': 0.488203, 'Tomas Alfredson': 2.69645025, 'Tommy Lee Jones': 0.8024099333333333, 'Tommy Wirkola': 2.3256323333333335, 'Tony Bill': 0.2966666666666667, 'Tony Cookson': 0.0, 'Tony Gilroy': 2.2049815832047437, 'Tony Kaye': 0.596878175, 'Tony McNamara': 0.0, 'Tony Richardson': 37.6, 'Tony Scott': 5.976387358345722, 'Tran Anh Hung': 0.0, 'Trey Nelson': 1.0, 'Trey Parker': 1.5908569375, 'Troy Duffy': 0.0050785, 'Tsui Hark': 0.9946785576923077, 'Tyler Perry': 1.0536414333333333, 'T√¥ya Sat√¥': 0.0, 'Udayan Prasad': 0.0, 'Uli Edel': 0.5293172196969698, 'Ulu Grosbard': 0.0, 'Uwe Boll': 0.8641276857142857, 'Valeriya Gay Germanika': 0.0, 'Valery Todorovsky': 1.1206922, 'Vasanth': 1.0, 'Vera Storozheva': 0.0, 'Vetrimaran': 3.2115384615384617, 'Vicky Funari': 0.0, 'Vicky Jenson': 0.42701633333333333, 'Victor Fleming': 2.041492196421774, 'Victor Nunez': 1.25179625, 'Victor Salva': 5.9217789, 'Victor Saville': 0.7111111111111111, 'Vijay Krishna Acharya': 4.666666666666667, 'Vikram Bhatt': 0.0, 'Viktor Shamirov': 0.0, 'Vincent Ward': 0.841000505882353, 'Vincente Minnelli': 2.4264076684573226, 'Vishal Bhardwaj': 2.0144444444444445, 'Vishnuvardhan': 2.282608695652174, 'Vivek Agnihotri': 0.8150130310071144, 'Vladimir Grammatikov': 0.3194444444444444, 'Vladimir Toropchin': 0.0, 'Vsevolod Plotkin': 0.0, 'Walt Becker': 0.0, 'Walter Bernstein': 0.0, 'Walter Hill': 2.9111636998479824, 'Walter Salles': 0.9649496551724138, 'Warren Leight': 0.0, 'Wayne Kramer': 0.0414934, 'Wayne Wang': 5.5672135726012355, 'Werner Herzog': 0.42356408, 'Wes Anderson': 1.0722173748174604, 'Wes Ball': 5.102572557377049, 'Wes Craven': 15.479522343084268, 'Wesley Ruggles': 12.666666666666666, 'Whit Stillman': 4.672189333333334, 'Wilford Leach': 0.0, 'Will Allen': 0.0, 'Will Finn': 0.9450132818181818, 'Will Gluck': 0.9299551, 'Will Meugniot': 0.0, 'Will Vinton': 0.0, 'Willard Huyck': 1.0481577372372373, 'William A. Graham': 0.25525945454545457, 'William Arntz': 0.0, 'William Beaudine': 2.086239224951721, 'William Castle': 55.55555555555556, 'William Dear': 0.10343981333333334, 'William Friedkin': 15.788241136313133, 'William Lustig': 0.0, 'William Maher': 0.0, 'William Malone': 2.149793789473684, 'William Nigh': 2.0551724137931036, 'William Oldroyd': 0.0, 'William Phelps': 0.0, 'William Shatner': 2.34, 'William Wyler': 9.793333333333333, 'Wilson Yip': 2.0750438130342936, 'Wim Wenders': 0.9334461356191566, 'Wolfgang Petersen': 2.616448215668119, 'Wolfgang Reitherman': 2.1370978, 'Wong Jing': 0.0, 'Wong Kar-wai': 9.389432236787565, 'Woody Allen': 3.630711844329676, 'Wu Jing': 6.666666666666667, 'Wuershan': 7.521621621621621, 'Xavier Dolan': 0.0006447368421052632, 'Xavier Gens': 4.165239708333333, 'Xavier Koller': 0.0, 'Yann Demange': 0.0, 'Yegor Konchalovsky': 0.0680624, 'Yoav Potash': 0.0, 'Yojiro Takita': 0.0, 'Yoon Je-kyoon': 0.7063530625, 'Yorgos Lanthimos': 3.91404825, 'Yuriy Kara': 0.005166666666666667, 'Y√¥ji Yamada': 1.4677974, 'Zach Braff': 0.9969634545454545, 'Zack Snyder': 2.94598008, 'Zalman King': 0.0, 'Zana Briski': 10.043031428571428, 'Zeresenay Mehari': 0.0, 'Zhang Yimou': 1.1177878430135622, '–ê–ª–µ–∫—Å–∞–Ω–¥—Ä –ó–µ–ª—å–¥–æ–≤–∏—á': 0.0, '√Ålex de la Iglesia': 0.2299047142857143, '√Ålvaro S√°enz de Heredia': 0.0, '√âmile Gaudreault': 0.6950646255368649}\n"
     ]
    }
   ],
   "source": [
    "#Create a column for ratio of director's average performance\n",
    "train_index = total[total['Dataset'] == 'Train'].index\n",
    "total_copy = total.loc[train_index].copy()\n",
    "director_ratio = total_copy[['Performance Ratio', 'director']].groupby(['director']).mean()\n",
    "\n",
    "dir_ratio_dict = director_ratio.to_dict()['Performance Ratio']\n",
    "print(dir_ratio_dict)"
   ]
  },
  {
   "cell_type": "code",
   "execution_count": 20,
   "metadata": {},
   "outputs": [
    {
     "name": "stderr",
     "output_type": "stream",
     "text": [
      "C:\\Users\\Matt\\Anaconda3\\lib\\site-packages\\pandas\\core\\indexing.py:190: SettingWithCopyWarning: \n",
      "A value is trying to be set on a copy of a slice from a DataFrame\n",
      "\n",
      "See the caveats in the documentation: http://pandas.pydata.org/pandas-docs/stable/indexing.html#indexing-view-versus-copy\n",
      "  self._setitem_with_indexer(indexer, value)\n"
     ]
    }
   ],
   "source": [
    "#Create a new column in total for Director ratio\n",
    "total['Director Ratio'] = None\n",
    "for i in range(len(total)):\n",
    "    try:\n",
    "        director = total['director'].loc[i]\n",
    "        total['Director Ratio'].loc[i] = dir_ratio_dict[director]\n",
    "    except KeyError:\n",
    "        total['Director Ratio'].loc[i] = 0"
   ]
  },
  {
   "cell_type": "code",
   "execution_count": 21,
   "metadata": {},
   "outputs": [],
   "source": [
    "#LDA Text Analysis - keywords\n",
    "added_stop_words = {}\n",
    "stop_words = text.ENGLISH_STOP_WORDS.union(added_stop_words)\n",
    "vect = CountVectorizer(max_features=10000, max_df=.5, \n",
    "                       stop_words=stop_words)\n",
    "X = vect.fit_transform(total.Keywords.fillna(''))\n",
    "lda = LatentDirichletAllocation(n_components=5, learning_method=\"batch\",\n",
    "                                max_iter=25, random_state=0) \n",
    "document_topics = lda.fit_transform(X)\n",
    "topics_frame = pd.DataFrame(document_topics, columns=['keywords_1','keywords_2', 'keywords_3', 'keywords_4', 'keywords_5'])\n",
    "total = pd.concat([total,topics_frame],axis=1)"
   ]
  },
  {
   "cell_type": "code",
   "execution_count": 22,
   "metadata": {},
   "outputs": [
    {
     "data": {
      "text/plain": [
       "Index(['id', 'belongs_to_collection', 'budget', 'genres', 'homepage',\n",
       "       'imdb_id', 'original_language', 'original_title', 'overview',\n",
       "       'popularity', 'poster_path', 'production_companies',\n",
       "       'production_countries', 'release_date', 'runtime', 'spoken_languages',\n",
       "       'status', 'tagline', 'title', 'Keywords', 'cast', 'crew', 'revenue',\n",
       "       'Dataset', 'director', 'Performance Ratio', 'Director Ratio',\n",
       "       'keywords_1', 'keywords_2', 'keywords_3', 'keywords_4', 'keywords_5'],\n",
       "      dtype='object')"
      ]
     },
     "execution_count": 22,
     "metadata": {},
     "output_type": "execute_result"
    }
   ],
   "source": [
    "total.columns"
   ]
  },
  {
   "cell_type": "code",
   "execution_count": 23,
   "metadata": {},
   "outputs": [],
   "source": [
    "#Drop all text columns except genre\n",
    "total.drop(axis=1,columns=['belongs_to_collection','homepage','imdb_id','original_language',\n",
    "                          'original_title','overview','poster_path',\n",
    "                          'production_companies','production_countries',\n",
    "                          'release_date','spoken_languages','status','tagline',\n",
    "                          'Keywords','cast','crew','director','Performance Ratio','title'], inplace=True)"
   ]
  },
  {
   "cell_type": "code",
   "execution_count": 24,
   "metadata": {},
   "outputs": [],
   "source": [
    "#Fill the NA values for runtime\n",
    "total['runtime']= total['runtime'].fillna(total['runtime'].mean())"
   ]
  },
  {
   "cell_type": "code",
   "execution_count": 25,
   "metadata": {},
   "outputs": [],
   "source": [
    "#Create a new column for list of genre\n",
    "total['genres_list'] = total['genres'].apply(parse_column)"
   ]
  },
  {
   "cell_type": "code",
   "execution_count": 26,
   "metadata": {},
   "outputs": [
    {
     "data": {
      "text/plain": [
       "0                            [comedy]\n",
       "1    [comedy, drama, family, romance]\n",
       "2                             [drama]\n",
       "3                   [thriller, drama]\n",
       "4                  [action, thriller]\n",
       "Name: genres_list, dtype: object"
      ]
     },
     "execution_count": 26,
     "metadata": {},
     "output_type": "execute_result"
    }
   ],
   "source": [
    "#Check the head\n",
    "total['genres_list'].head()"
   ]
  },
  {
   "cell_type": "code",
   "execution_count": 27,
   "metadata": {},
   "outputs": [
    {
     "name": "stdout",
     "output_type": "stream",
     "text": [
      "20\n"
     ]
    }
   ],
   "source": [
    "#Create Dummy Variables for genres\n",
    "#Create MultiLabelBinarizer\n",
    "genres_list = []\n",
    "for i in total['genres_list']:\n",
    "    genres_list.extend(i)\n",
    "genres_set = set(genres_list)\n",
    "genres_list = list(genres_set)\n",
    "print(len(genres_list))\n",
    "mlb = MultiLabelBinarizer()\n",
    "array = mlb.fit_transform(total['genres_list'])\n",
    "genres_list.sort()\n",
    "genres_dataframe = pd.DataFrame(data=array,columns=genres_list)"
   ]
  },
  {
   "cell_type": "code",
   "execution_count": 28,
   "metadata": {},
   "outputs": [],
   "source": [
    "#Combine newdataframe to total\n",
    "total = pd.concat([total, genres_dataframe], axis=1)"
   ]
  },
  {
   "cell_type": "code",
   "execution_count": 29,
   "metadata": {},
   "outputs": [],
   "source": [
    "#Normalize columns\n",
    "total['budget'] = scale(total['budget'])\n",
    "total['popularity'] = scale(total['popularity'])\n",
    "total['runtime'] = scale(total['runtime'])"
   ]
  },
  {
   "cell_type": "code",
   "execution_count": 30,
   "metadata": {},
   "outputs": [],
   "source": [
    "#Check columns / drop genres_list, genres\n",
    "total.drop(axis=1,columns=['genres','genres_list','Dataset'],inplace=True)"
   ]
  },
  {
   "cell_type": "code",
   "execution_count": 31,
   "metadata": {},
   "outputs": [
    {
     "data": {
      "text/plain": [
       "Index(['id', 'budget', 'popularity', 'runtime', 'revenue', 'Director Ratio',\n",
       "       'keywords_1', 'keywords_2', 'keywords_3', 'keywords_4', 'keywords_5',\n",
       "       'action', 'adventure', 'animation', 'comedy', 'crime', 'documentary',\n",
       "       'drama', 'family', 'fantasy', 'foreign', 'history', 'horror', 'music',\n",
       "       'mystery', 'romance', 'science fiction', 'thriller', 'tv movie', 'war',\n",
       "       'western'],\n",
       "      dtype='object')"
      ]
     },
     "execution_count": 31,
     "metadata": {},
     "output_type": "execute_result"
    }
   ],
   "source": [
    "#Check columns\n",
    "total.columns"
   ]
  },
  {
   "cell_type": "code",
   "execution_count": 32,
   "metadata": {},
   "outputs": [],
   "source": [
    "#Split the dataset back into train and test\n",
    "train_index = total[total['revenue'].isnull() == False].index\n",
    "test_index = total[total['revenue'].isnull() == True].index\n",
    "train = total.loc[train_index]\n",
    "test = total.loc[test_index]\n",
    "test.drop(['revenue'],axis=1,inplace=True)"
   ]
  },
  {
   "cell_type": "code",
   "execution_count": 33,
   "metadata": {},
   "outputs": [],
   "source": [
    "#Create a model, X, and y\n",
    "X = train.drop(['revenue','id'], axis=1)\n",
    "y = train['revenue']"
   ]
  },
  {
   "cell_type": "code",
   "execution_count": 34,
   "metadata": {},
   "outputs": [],
   "source": [
    "#Create Linear Model\n",
    "lm = LinearRegression()"
   ]
  },
  {
   "cell_type": "code",
   "execution_count": 35,
   "metadata": {},
   "outputs": [
    {
     "data": {
      "text/plain": [
       "LinearRegression(copy_X=True, fit_intercept=True, n_jobs=None, normalize=False)"
      ]
     },
     "execution_count": 35,
     "metadata": {},
     "output_type": "execute_result"
    }
   ],
   "source": [
    "#Fit the model and predict\n",
    "lm.fit(X, y)"
   ]
  },
  {
   "cell_type": "code",
   "execution_count": 36,
   "metadata": {},
   "outputs": [
    {
     "data": {
      "text/plain": [
       "0.6313497533677692"
      ]
     },
     "execution_count": 36,
     "metadata": {},
     "output_type": "execute_result"
    }
   ],
   "source": [
    "#Find model score - R squared\n",
    "lm.score(X, y)"
   ]
  },
  {
   "cell_type": "code",
   "execution_count": 37,
   "metadata": {},
   "outputs": [],
   "source": [
    "#Apply the model to test\n",
    "X_2 = test.drop(['id',], axis=1)\n",
    "y_hat_test = lm.predict(X_2)"
   ]
  },
  {
   "cell_type": "code",
   "execution_count": 38,
   "metadata": {},
   "outputs": [
    {
     "data": {
      "text/plain": [
       "array([ 43510445.7823312 , -16084477.41555601,  20142058.66469055, ...,\n",
       "        63682817.60172062,  55468864.83134452,   7031028.24123189])"
      ]
     },
     "execution_count": 38,
     "metadata": {},
     "output_type": "execute_result"
    }
   ],
   "source": [
    "y_hat_test"
   ]
  },
  {
   "cell_type": "code",
   "execution_count": 39,
   "metadata": {},
   "outputs": [],
   "source": [
    "#Create csv for submission\n",
    "revenue_prediction = pd.Series(y_hat_test)\n",
    "test = test.reset_index()\n",
    "test.drop(['index'],axis=1,inplace=True)\n",
    "test['Revenue'] = revenue_prediction\n",
    "save_frame = test[['id','Revenue']].copy()\n",
    "save_frame.to_csv('IMBD Movie Revenue Predictions.csv', index=False)"
   ]
  },
  {
   "cell_type": "code",
   "execution_count": 40,
   "metadata": {},
   "outputs": [
    {
     "name": "stdout",
     "output_type": "stream",
     "text": [
      "MAE = 45639020.698798776\n",
      "MSE = 6970746959251846.0\n",
      "RMSE = 83490999.27089055\n"
     ]
    }
   ],
   "source": [
    "#Get Metrics\n",
    "from sklearn.metrics import mean_squared_log_error\n",
    "from sklearn.metrics import mean_absolute_error, mean_squared_error\n",
    "\n",
    "y_hat_train = lm.predict(X)\n",
    "\n",
    "MAE = mean_absolute_error(y,y_hat_train)\n",
    "MSE = mean_squared_error(y,y_hat_train)\n",
    "RMSE = np.sqrt(MSE)\n",
    "\n",
    "print(\"MAE = {}\".format(MAE))\n",
    "print(\"MSE = {}\".format(MSE))\n",
    "print(\"RMSE = {}\".format(RMSE))"
   ]
  },
  {
   "cell_type": "code",
   "execution_count": null,
   "metadata": {},
   "outputs": [],
   "source": [
    "#Score from Kaggle\n",
    "#6.36415"
   ]
  }
 ],
 "metadata": {
  "kernelspec": {
   "display_name": "Python 3",
   "language": "python",
   "name": "python3"
  },
  "language_info": {
   "codemirror_mode": {
    "name": "ipython",
    "version": 3
   },
   "file_extension": ".py",
   "mimetype": "text/x-python",
   "name": "python",
   "nbconvert_exporter": "python",
   "pygments_lexer": "ipython3",
   "version": "3.7.3"
  }
 },
 "nbformat": 4,
 "nbformat_minor": 2
}
